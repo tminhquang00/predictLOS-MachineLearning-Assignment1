{
 "cells": [
  {
   "cell_type": "markdown",
   "metadata": {},
   "source": [
    "# Classify length of stay of patient"
   ]
  },
  {
   "cell_type": "markdown",
   "metadata": {},
   "source": [
    "### COSC2753 - Machine learning - Assignment 1  \n",
    "**Tran Minh Quang - s3757281**"
   ]
  },
  {
   "cell_type": "markdown",
   "metadata": {},
   "source": [
    "## Introduction"
   ]
  },
  {
   "cell_type": "markdown",
   "metadata": {},
   "source": [
    "The COVID-19 catalyst have caused a tremedous pressure on the healthcare system of many countries in the world, even developed countries such as United State (USA) or China are struggling in managing and distributing the resource in the hospital. Hence, in this notebook, we will try to apply machine learning techniques to predict when will the patient is likely to leave the hospital using classification models. In the following sections, some data cleanning task is executed to make the raw data fit to train the model, and data modelling process which are hyperparameter tunning, model trainning, model evaluation and model selection is applied to find the best model for our question."
   ]
  },
  {
   "cell_type": "markdown",
   "metadata": {},
   "source": [
    "## Material and methods"
   ]
  },
  {
   "cell_type": "markdown",
   "metadata": {},
   "source": [
    "### Data set"
   ]
  },
  {
   "cell_type": "markdown",
   "metadata": {},
   "source": [
    "The original data set is take from HealthData: Hospital Inpatient Discharges (SPARCS De-Identified). There are 15 collumns in the data set as described as below:\n",
    "\n",
    "| Column   Name                | Attribute/Target | Description                                                                                                                                                                                                  |\n",
    "|------------------------------|------------------|--------------------------------------------------------------------------------------------------------------------------------------------------------------------------------------------------------------|\n",
    "| ID                           | N/A              | Unique number to represent patient ID                                                                                                                                                                        |\n",
    "| HealthServiceArea            | N/A              | A description of the Health Service Area (HSA) in which the hospital is located. Capital/Adirondack, Central NY, Finger   Lakes, Hudson Valley, Long Island, New York City, Southern Tier, Western NY.       |\n",
    "| Gender                       | Attribute 1      | Patient gender:   (M) Male, (F) Female, (U) Unknown.                                                                                                                                                         |\n",
    "| Race                         | Attribute 2      | Patient race. Black/African American, Multi, Other Race, Unknown, White. Other Race   includes Native Americans and Asian/Pacific Islander.                                                                  |\n",
    "| TypeOfAdmission              | Attribute 3      | A description of   the manner in which the patient was admitted to the health care facility:   Elective, Emergency, Newborn, Not Available, Trauma, Urgent.                                                  |\n",
    "| CCSProcedureCode             | Attribute 4      | AHRQ Clinical Classification Software (CCS) ICD-9 Procedure Category Code                                                                                                                                    |\n",
    "| APRSeverityOfIllnessCode     | Attribute 5      | All Patient  Refined Severity of Illness (APR SOI) Description: Minor (1), Moderate (2),   Major (3), Extreme (4)                                                                                            |\n",
    "| PaymentTypology              | Attribute 6      | A description of the type of payment for this occurrence.                                                                                                                                                    |\n",
    "| BirthWeight                  | Attribute 7      | The neonate birth weight in grams; rounded to nearest 100g.                                                                                                                                                  |\n",
    "| EmergencyDepartmentIndicator | Attribute 8      | Emergency Department Indicator is set based on the submitted revenue codes. If the   record contained an Emergency Department revenue code of 045X, the indicator   is set to \"Y\", otherwise it will be “N”. |\n",
    "| AverageCostInCounty          | Attribute 9      | Average hospitalization Cost In County of the patient                                                                                                                                                        |\n",
    "| AverageChargesInCounty       | Attribute 10     | Average medical Charges In County of the patient                                                                                                                                                             |\n",
    "| AverageCostInFacility        | Attribute 11     | Average Cost In Facility                                                                                                                                                                                     |\n",
    "| AverageChargesInFacility     | Attribute 12     | Average Charges In Facility                                                                                                                                                                                  |\n",
    "| AverageIncomeInZipCode       | Attribute 13     | Average Income In Zip Code                                                                                                                                                                                   |\n",
    "| LengthOfStay                 | target           | The total number  of patient days at an acute level and/or other than acute care level. Need to be transformed to match the task class 0 id LengthOfStay < 4 and class 1 otherwise                           |"
   ]
  },
  {
   "cell_type": "markdown",
   "metadata": {},
   "source": [
    "From this data set, we will use 13 attributes to predict the length of stay (LOS) of a patient. "
   ]
  },
  {
   "cell_type": "markdown",
   "metadata": {},
   "source": [
    "### Methodologies \n"
   ]
  },
  {
   "cell_type": "markdown",
   "metadata": {},
   "source": [
    "In this assignment, using the given data set, we will try different models to predict the LOS of a patient to find the best model for this problems. Several machine learning models is applied in this notebook, from basic supervised classifier such as naive bayes, logistic regression to complex one such as histogram gradient boosting, k-nearest neighbour and neural network model MLP classifier. A breif explaination of applied model is stated below:  \n",
    "* `Gaussian Naive Bayes`: Naive Bayes model make prediction based on the bayes' theorem by calculating the probability of hypothesis given our prior information. Gaussian Naive Bayes is a variant of naive bayes which have an assumption is the continuous data is gaussian distribution.   \n",
    "                                            P(A|B) = (P(B|A) * P(A)) / P(B)  \n",
    "* `Logistics Regression`: This is the linear regression approach for classification problems. It use to model the probability of a binary class. Similar to linear regression, it use each of the input feature with assigned weight to make prediction, however, the logistic regresion use a sigmoid function and its output is 1 and 0:  \n",
    "$$\\frac{1}{1 + e^{-x}}$$  \n",
    "* `K-nearest neighbour (KNN)`: KNN is a non-linear supervised learning model that learn all available cases and makes predictions based on similarity (distance function).    \n",
    "* `Adaboost Classifier`: Adaptive Boosting algorithm is an algorithm ultilizes the boosting emsemble method on machine learning to reduce bias and variance.  \n",
    "* `LightGBM`: A high performance gradient boosting method based on decision tree algorithm mainly applied for ranking and classification problems.\n",
    "* `Random Forest`: Random forest is a machine learning model made up with many decision trees with two main concepts which is the model random sampling the data when building trees and use random subset of features when splitting nodes.  * `Emsemble method`: After train all of the model above, we will try to stack all the model to improve the prediction accuraccy.   "
   ]
  },
  {
   "cell_type": "markdown",
   "metadata": {},
   "source": [
    "As stated above, since there are several models is applied in this notebook, we will list some of evaluation metrics used in this notebook for evaluate models:  \n",
    "* `Confusion Matrix`: A matrix contains 4 keys metrics of classification which are true positive (TP), false positive (FP), true negative (TN), false negative (FN). \n",
    "* `Accuracy score`: The number of correct prediction:  \n",
    "$$\\frac{TP + TN}{TP + TN + FP + FN}$$  \n",
    "* `F1 Score`: A metric that illustrated both precision and recall:  \n",
    "$$2*\\frac{precision * recall}{precision + recall}$$  \n",
    "* `Decision Threshold & Receiver Operating Characteristic (ROC) curve`: ROC curve summary the trade off between true positive rate and false positive rate with different threshold  \n",
    "\n",
    "Since our problems is to predicted the duration of stay of a patient in the hospital is over or under 3 days, the hospital will be overloaded, therefore the cost of False positive which predicts patient's LOS over 3 when they should be discharge from the hospital within 3 days, will cause the manager to make uneccessary and costly methods. Thus, another metric we need to considered is the number of false positive in the confusion matrix. If the number of False positive is higher, than the model will not appropriate for this problems. In other word, we try to make model with high accuraccy in true positive."
   ]
  },
  {
   "cell_type": "markdown",
   "metadata": {},
   "source": [
    "## Data preprocessing"
   ]
  },
  {
   "cell_type": "markdown",
   "metadata": {},
   "source": [
    "In this part there are 4 main steps in this stage. Firstly, we have to change the target collumn to discrete value which contain only 0 and 1, 0 represented length of stay under or equal 3 days, otherwise the value is 1. Secondly, There exist some categorical features in the data set, hence, we have to one hot encoded all of these features. Next, we have to separate the train data set into train and validation data set with the ratio 80/20. Finally, since there exist the imbalance in the target, we have to balancin the data set with `imblearn` package."
   ]
  },
  {
   "cell_type": "code",
   "execution_count": 1,
   "metadata": {},
   "outputs": [],
   "source": [
    "# import library for data preprocessing\n",
    "import pandas as pd\n",
    "pd.options.mode.chained_assignment = None  # default='warn'\n",
    "import numpy as np\n",
    "from numpy import mean\n",
    "from numpy import std\n",
    "from numpy import percentile\n",
    "import matplotlib.pyplot as plt\n",
    "import seaborn as sns\n",
    "from sklearn.model_selection import train_test_split"
   ]
  },
  {
   "cell_type": "markdown",
   "metadata": {},
   "source": [
    "#### Read data from file"
   ]
  },
  {
   "cell_type": "code",
   "execution_count": 2,
   "metadata": {},
   "outputs": [
    {
     "data": {
      "text/html": [
       "<div>\n",
       "<style scoped>\n",
       "    .dataframe tbody tr th:only-of-type {\n",
       "        vertical-align: middle;\n",
       "    }\n",
       "\n",
       "    .dataframe tbody tr th {\n",
       "        vertical-align: top;\n",
       "    }\n",
       "\n",
       "    .dataframe thead th {\n",
       "        text-align: right;\n",
       "    }\n",
       "</style>\n",
       "<table border=\"1\" class=\"dataframe\">\n",
       "  <thead>\n",
       "    <tr style=\"text-align: right;\">\n",
       "      <th></th>\n",
       "      <th>Gender</th>\n",
       "      <th>Race</th>\n",
       "      <th>TypeOfAdmission</th>\n",
       "      <th>CCSProcedureCode</th>\n",
       "      <th>APRSeverityOfIllnessCode</th>\n",
       "      <th>PaymentTypology</th>\n",
       "      <th>BirthWeight</th>\n",
       "      <th>EmergencyDepartmentIndicator</th>\n",
       "      <th>AverageCostInCounty</th>\n",
       "      <th>AverageChargesInCounty</th>\n",
       "      <th>AverageCostInFacility</th>\n",
       "      <th>AverageChargesInFacility</th>\n",
       "      <th>AverageIncomeInZipCode</th>\n",
       "      <th>LengthOfStay</th>\n",
       "    </tr>\n",
       "  </thead>\n",
       "  <tbody>\n",
       "    <tr>\n",
       "      <th>0</th>\n",
       "      <td>F</td>\n",
       "      <td>Other Race</td>\n",
       "      <td>Newborn</td>\n",
       "      <td>228</td>\n",
       "      <td>1</td>\n",
       "      <td>Medicaid</td>\n",
       "      <td>3700</td>\n",
       "      <td>N</td>\n",
       "      <td>2611</td>\n",
       "      <td>9227</td>\n",
       "      <td>1751</td>\n",
       "      <td>8951</td>\n",
       "      <td>45</td>\n",
       "      <td>1</td>\n",
       "    </tr>\n",
       "    <tr>\n",
       "      <th>1</th>\n",
       "      <td>M</td>\n",
       "      <td>Black/African American</td>\n",
       "      <td>Newborn</td>\n",
       "      <td>228</td>\n",
       "      <td>1</td>\n",
       "      <td>Medicaid</td>\n",
       "      <td>2900</td>\n",
       "      <td>N</td>\n",
       "      <td>3242</td>\n",
       "      <td>8966</td>\n",
       "      <td>3338</td>\n",
       "      <td>6409</td>\n",
       "      <td>34</td>\n",
       "      <td>1</td>\n",
       "    </tr>\n",
       "    <tr>\n",
       "      <th>2</th>\n",
       "      <td>M</td>\n",
       "      <td>Other Race</td>\n",
       "      <td>Newborn</td>\n",
       "      <td>220</td>\n",
       "      <td>1</td>\n",
       "      <td>Private Health Insurance</td>\n",
       "      <td>3200</td>\n",
       "      <td>N</td>\n",
       "      <td>3155</td>\n",
       "      <td>11381</td>\n",
       "      <td>4980</td>\n",
       "      <td>9323</td>\n",
       "      <td>45</td>\n",
       "      <td>1</td>\n",
       "    </tr>\n",
       "    <tr>\n",
       "      <th>3</th>\n",
       "      <td>F</td>\n",
       "      <td>Other Race</td>\n",
       "      <td>Newborn</td>\n",
       "      <td>0</td>\n",
       "      <td>1</td>\n",
       "      <td>Private Health Insurance</td>\n",
       "      <td>3300</td>\n",
       "      <td>N</td>\n",
       "      <td>3155</td>\n",
       "      <td>11381</td>\n",
       "      <td>5826</td>\n",
       "      <td>15680</td>\n",
       "      <td>59</td>\n",
       "      <td>1</td>\n",
       "    </tr>\n",
       "    <tr>\n",
       "      <th>4</th>\n",
       "      <td>F</td>\n",
       "      <td>Other Race</td>\n",
       "      <td>Newborn</td>\n",
       "      <td>228</td>\n",
       "      <td>1</td>\n",
       "      <td>Medicaid</td>\n",
       "      <td>2600</td>\n",
       "      <td>N</td>\n",
       "      <td>2611</td>\n",
       "      <td>9227</td>\n",
       "      <td>6000</td>\n",
       "      <td>14344</td>\n",
       "      <td>59</td>\n",
       "      <td>1</td>\n",
       "    </tr>\n",
       "    <tr>\n",
       "      <th>...</th>\n",
       "      <td>...</td>\n",
       "      <td>...</td>\n",
       "      <td>...</td>\n",
       "      <td>...</td>\n",
       "      <td>...</td>\n",
       "      <td>...</td>\n",
       "      <td>...</td>\n",
       "      <td>...</td>\n",
       "      <td>...</td>\n",
       "      <td>...</td>\n",
       "      <td>...</td>\n",
       "      <td>...</td>\n",
       "      <td>...</td>\n",
       "      <td>...</td>\n",
       "    </tr>\n",
       "    <tr>\n",
       "      <th>59961</th>\n",
       "      <td>M</td>\n",
       "      <td>Black/African American</td>\n",
       "      <td>Newborn</td>\n",
       "      <td>115</td>\n",
       "      <td>1</td>\n",
       "      <td>Blue Cross/Blue Shield</td>\n",
       "      <td>3600</td>\n",
       "      <td>N</td>\n",
       "      <td>1826</td>\n",
       "      <td>4190</td>\n",
       "      <td>1551</td>\n",
       "      <td>3715</td>\n",
       "      <td>36</td>\n",
       "      <td>4</td>\n",
       "    </tr>\n",
       "    <tr>\n",
       "      <th>59962</th>\n",
       "      <td>M</td>\n",
       "      <td>White</td>\n",
       "      <td>Newborn</td>\n",
       "      <td>115</td>\n",
       "      <td>2</td>\n",
       "      <td>Blue Cross/Blue Shield</td>\n",
       "      <td>3300</td>\n",
       "      <td>N</td>\n",
       "      <td>1826</td>\n",
       "      <td>4190</td>\n",
       "      <td>1551</td>\n",
       "      <td>3715</td>\n",
       "      <td>55</td>\n",
       "      <td>6</td>\n",
       "    </tr>\n",
       "    <tr>\n",
       "      <th>59963</th>\n",
       "      <td>M</td>\n",
       "      <td>White</td>\n",
       "      <td>Newborn</td>\n",
       "      <td>115</td>\n",
       "      <td>2</td>\n",
       "      <td>Blue Cross/Blue Shield</td>\n",
       "      <td>3400</td>\n",
       "      <td>N</td>\n",
       "      <td>1826</td>\n",
       "      <td>4190</td>\n",
       "      <td>1551</td>\n",
       "      <td>3715</td>\n",
       "      <td>55</td>\n",
       "      <td>4</td>\n",
       "    </tr>\n",
       "    <tr>\n",
       "      <th>59964</th>\n",
       "      <td>M</td>\n",
       "      <td>White</td>\n",
       "      <td>Newborn</td>\n",
       "      <td>-1</td>\n",
       "      <td>2</td>\n",
       "      <td>Medicaid</td>\n",
       "      <td>3100</td>\n",
       "      <td>N</td>\n",
       "      <td>1826</td>\n",
       "      <td>4190</td>\n",
       "      <td>1551</td>\n",
       "      <td>3715</td>\n",
       "      <td>55</td>\n",
       "      <td>4</td>\n",
       "    </tr>\n",
       "    <tr>\n",
       "      <th>59965</th>\n",
       "      <td>F</td>\n",
       "      <td>White</td>\n",
       "      <td>Newborn</td>\n",
       "      <td>231</td>\n",
       "      <td>2</td>\n",
       "      <td>Blue Cross/Blue Shield</td>\n",
       "      <td>3900</td>\n",
       "      <td>N</td>\n",
       "      <td>1826</td>\n",
       "      <td>4190</td>\n",
       "      <td>1551</td>\n",
       "      <td>3715</td>\n",
       "      <td>36</td>\n",
       "      <td>4</td>\n",
       "    </tr>\n",
       "  </tbody>\n",
       "</table>\n",
       "<p>59966 rows × 14 columns</p>\n",
       "</div>"
      ],
      "text/plain": [
       "      Gender                    Race TypeOfAdmission  CCSProcedureCode  \\\n",
       "0          F              Other Race         Newborn               228   \n",
       "1          M  Black/African American         Newborn               228   \n",
       "2          M              Other Race         Newborn               220   \n",
       "3          F              Other Race         Newborn                 0   \n",
       "4          F              Other Race         Newborn               228   \n",
       "...      ...                     ...             ...               ...   \n",
       "59961      M  Black/African American         Newborn               115   \n",
       "59962      M                   White         Newborn               115   \n",
       "59963      M                   White         Newborn               115   \n",
       "59964      M                   White         Newborn                -1   \n",
       "59965      F                   White         Newborn               231   \n",
       "\n",
       "       APRSeverityOfIllnessCode           PaymentTypology  BirthWeight  \\\n",
       "0                             1                  Medicaid         3700   \n",
       "1                             1                  Medicaid         2900   \n",
       "2                             1  Private Health Insurance         3200   \n",
       "3                             1  Private Health Insurance         3300   \n",
       "4                             1                  Medicaid         2600   \n",
       "...                         ...                       ...          ...   \n",
       "59961                         1    Blue Cross/Blue Shield         3600   \n",
       "59962                         2    Blue Cross/Blue Shield         3300   \n",
       "59963                         2    Blue Cross/Blue Shield         3400   \n",
       "59964                         2                  Medicaid         3100   \n",
       "59965                         2    Blue Cross/Blue Shield         3900   \n",
       "\n",
       "      EmergencyDepartmentIndicator  AverageCostInCounty  \\\n",
       "0                                N                 2611   \n",
       "1                                N                 3242   \n",
       "2                                N                 3155   \n",
       "3                                N                 3155   \n",
       "4                                N                 2611   \n",
       "...                            ...                  ...   \n",
       "59961                            N                 1826   \n",
       "59962                            N                 1826   \n",
       "59963                            N                 1826   \n",
       "59964                            N                 1826   \n",
       "59965                            N                 1826   \n",
       "\n",
       "       AverageChargesInCounty  AverageCostInFacility  \\\n",
       "0                        9227                   1751   \n",
       "1                        8966                   3338   \n",
       "2                       11381                   4980   \n",
       "3                       11381                   5826   \n",
       "4                        9227                   6000   \n",
       "...                       ...                    ...   \n",
       "59961                    4190                   1551   \n",
       "59962                    4190                   1551   \n",
       "59963                    4190                   1551   \n",
       "59964                    4190                   1551   \n",
       "59965                    4190                   1551   \n",
       "\n",
       "       AverageChargesInFacility  AverageIncomeInZipCode  LengthOfStay  \n",
       "0                          8951                      45             1  \n",
       "1                          6409                      34             1  \n",
       "2                          9323                      45             1  \n",
       "3                         15680                      59             1  \n",
       "4                         14344                      59             1  \n",
       "...                         ...                     ...           ...  \n",
       "59961                      3715                      36             4  \n",
       "59962                      3715                      55             6  \n",
       "59963                      3715                      55             4  \n",
       "59964                      3715                      55             4  \n",
       "59965                      3715                      36             4  \n",
       "\n",
       "[59966 rows x 14 columns]"
      ]
     },
     "execution_count": 2,
     "metadata": {},
     "output_type": "execute_result"
    }
   ],
   "source": [
    "# read data from file\n",
    "data = pd.read_csv(\"./data/train_data.csv\")\n",
    "data = data.drop(['HealthServiceArea', 'ID'], axis=1)\n",
    "data"
   ]
  },
  {
   "cell_type": "code",
   "execution_count": 3,
   "metadata": {},
   "outputs": [
    {
     "data": {
      "text/html": [
       "<div>\n",
       "<style scoped>\n",
       "    .dataframe tbody tr th:only-of-type {\n",
       "        vertical-align: middle;\n",
       "    }\n",
       "\n",
       "    .dataframe tbody tr th {\n",
       "        vertical-align: top;\n",
       "    }\n",
       "\n",
       "    .dataframe thead th {\n",
       "        text-align: right;\n",
       "    }\n",
       "</style>\n",
       "<table border=\"1\" class=\"dataframe\">\n",
       "  <thead>\n",
       "    <tr style=\"text-align: right;\">\n",
       "      <th></th>\n",
       "      <th>CCSProcedureCode</th>\n",
       "      <th>APRSeverityOfIllnessCode</th>\n",
       "      <th>BirthWeight</th>\n",
       "      <th>AverageCostInCounty</th>\n",
       "      <th>AverageChargesInCounty</th>\n",
       "      <th>AverageCostInFacility</th>\n",
       "      <th>AverageChargesInFacility</th>\n",
       "      <th>AverageIncomeInZipCode</th>\n",
       "      <th>LengthOfStay</th>\n",
       "    </tr>\n",
       "  </thead>\n",
       "  <tbody>\n",
       "    <tr>\n",
       "      <th>count</th>\n",
       "      <td>59966.000000</td>\n",
       "      <td>59966.000000</td>\n",
       "      <td>59966.000000</td>\n",
       "      <td>59966.000000</td>\n",
       "      <td>59966.000000</td>\n",
       "      <td>59966.000000</td>\n",
       "      <td>59966.000000</td>\n",
       "      <td>59966.000000</td>\n",
       "      <td>59966.000000</td>\n",
       "    </tr>\n",
       "    <tr>\n",
       "      <th>mean</th>\n",
       "      <td>155.404229</td>\n",
       "      <td>1.254594</td>\n",
       "      <td>3336.298903</td>\n",
       "      <td>2372.806690</td>\n",
       "      <td>7979.126922</td>\n",
       "      <td>2396.414318</td>\n",
       "      <td>7958.472668</td>\n",
       "      <td>59.811143</td>\n",
       "      <td>2.538405</td>\n",
       "    </tr>\n",
       "    <tr>\n",
       "      <th>std</th>\n",
       "      <td>89.541978</td>\n",
       "      <td>0.546207</td>\n",
       "      <td>446.244475</td>\n",
       "      <td>639.755096</td>\n",
       "      <td>3220.291347</td>\n",
       "      <td>1248.501189</td>\n",
       "      <td>3859.294711</td>\n",
       "      <td>21.470170</td>\n",
       "      <td>1.171246</td>\n",
       "    </tr>\n",
       "    <tr>\n",
       "      <th>min</th>\n",
       "      <td>-1.000000</td>\n",
       "      <td>1.000000</td>\n",
       "      <td>2500.000000</td>\n",
       "      <td>712.000000</td>\n",
       "      <td>1243.000000</td>\n",
       "      <td>457.000000</td>\n",
       "      <td>1120.000000</td>\n",
       "      <td>28.000000</td>\n",
       "      <td>1.000000</td>\n",
       "    </tr>\n",
       "    <tr>\n",
       "      <th>25%</th>\n",
       "      <td>115.000000</td>\n",
       "      <td>1.000000</td>\n",
       "      <td>3000.000000</td>\n",
       "      <td>2041.000000</td>\n",
       "      <td>4620.000000</td>\n",
       "      <td>1551.000000</td>\n",
       "      <td>4438.000000</td>\n",
       "      <td>45.000000</td>\n",
       "      <td>2.000000</td>\n",
       "    </tr>\n",
       "    <tr>\n",
       "      <th>50%</th>\n",
       "      <td>220.000000</td>\n",
       "      <td>1.000000</td>\n",
       "      <td>3300.000000</td>\n",
       "      <td>2533.000000</td>\n",
       "      <td>9227.000000</td>\n",
       "      <td>1967.000000</td>\n",
       "      <td>7945.000000</td>\n",
       "      <td>55.000000</td>\n",
       "      <td>2.000000</td>\n",
       "    </tr>\n",
       "    <tr>\n",
       "      <th>75%</th>\n",
       "      <td>228.000000</td>\n",
       "      <td>1.000000</td>\n",
       "      <td>3600.000000</td>\n",
       "      <td>2785.000000</td>\n",
       "      <td>10644.000000</td>\n",
       "      <td>2895.000000</td>\n",
       "      <td>11619.000000</td>\n",
       "      <td>74.000000</td>\n",
       "      <td>3.000000</td>\n",
       "    </tr>\n",
       "    <tr>\n",
       "      <th>max</th>\n",
       "      <td>231.000000</td>\n",
       "      <td>4.000000</td>\n",
       "      <td>7500.000000</td>\n",
       "      <td>3242.000000</td>\n",
       "      <td>11381.000000</td>\n",
       "      <td>8114.000000</td>\n",
       "      <td>18466.000000</td>\n",
       "      <td>115.000000</td>\n",
       "      <td>10.000000</td>\n",
       "    </tr>\n",
       "  </tbody>\n",
       "</table>\n",
       "</div>"
      ],
      "text/plain": [
       "       CCSProcedureCode  APRSeverityOfIllnessCode   BirthWeight  \\\n",
       "count      59966.000000              59966.000000  59966.000000   \n",
       "mean         155.404229                  1.254594   3336.298903   \n",
       "std           89.541978                  0.546207    446.244475   \n",
       "min           -1.000000                  1.000000   2500.000000   \n",
       "25%          115.000000                  1.000000   3000.000000   \n",
       "50%          220.000000                  1.000000   3300.000000   \n",
       "75%          228.000000                  1.000000   3600.000000   \n",
       "max          231.000000                  4.000000   7500.000000   \n",
       "\n",
       "       AverageCostInCounty  AverageChargesInCounty  AverageCostInFacility  \\\n",
       "count         59966.000000            59966.000000           59966.000000   \n",
       "mean           2372.806690             7979.126922            2396.414318   \n",
       "std             639.755096             3220.291347            1248.501189   \n",
       "min             712.000000             1243.000000             457.000000   \n",
       "25%            2041.000000             4620.000000            1551.000000   \n",
       "50%            2533.000000             9227.000000            1967.000000   \n",
       "75%            2785.000000            10644.000000            2895.000000   \n",
       "max            3242.000000            11381.000000            8114.000000   \n",
       "\n",
       "       AverageChargesInFacility  AverageIncomeInZipCode  LengthOfStay  \n",
       "count              59966.000000            59966.000000  59966.000000  \n",
       "mean                7958.472668               59.811143      2.538405  \n",
       "std                 3859.294711               21.470170      1.171246  \n",
       "min                 1120.000000               28.000000      1.000000  \n",
       "25%                 4438.000000               45.000000      2.000000  \n",
       "50%                 7945.000000               55.000000      2.000000  \n",
       "75%                11619.000000               74.000000      3.000000  \n",
       "max                18466.000000              115.000000     10.000000  "
      ]
     },
     "execution_count": 3,
     "metadata": {},
     "output_type": "execute_result"
    }
   ],
   "source": [
    "data.describe()"
   ]
  },
  {
   "cell_type": "markdown",
   "metadata": {},
   "source": [
    "#### Transform target to binary"
   ]
  },
  {
   "cell_type": "code",
   "execution_count": 4,
   "metadata": {},
   "outputs": [],
   "source": [
    "# convert original target feature (LengthOfStay) to binary options\n",
    "data.LengthOfStay[data.LengthOfStay <= 3] = 0\n",
    "data.LengthOfStay[data.LengthOfStay > 3] = 1"
   ]
  },
  {
   "cell_type": "markdown",
   "metadata": {},
   "source": [
    "#### Data cleanning"
   ]
  },
  {
   "cell_type": "markdown",
   "metadata": {},
   "source": [
    "Before use data in data modelling process, several prior work we have to make with the raw data to make it valid to fit with the model which are: \n",
    "* Remove oulier from the data set\n",
    "* One hot encoded categorical features"
   ]
  },
  {
   "cell_type": "code",
   "execution_count": 5,
   "metadata": {},
   "outputs": [
    {
     "name": "stdout",
     "output_type": "stream",
     "text": [
      "['Gender', 'Race', 'TypeOfAdmission', 'PaymentTypology', 'EmergencyDepartmentIndicator']\n"
     ]
    }
   ],
   "source": [
    "# Get list of categorical variables\n",
    "s = (data.dtypes == 'object')\n",
    "categorical_cols = list(s[s].index)\n",
    "\n",
    "print(categorical_cols)"
   ]
  },
  {
   "cell_type": "code",
   "execution_count": 6,
   "metadata": {},
   "outputs": [],
   "source": [
    "# Data preprocessing\n",
    "def preprocessingData(data):\n",
    "    '''\n",
    "    Modify the data to increase the accuracy of model\n",
    "    INPUT:\n",
    "    data: the raw data set\n",
    "    OUTPUT:\n",
    "    df: cleaned data set\n",
    "    '''\n",
    "    df = data.copy()\n",
    "    \n",
    "    # Get list of categorical variables\n",
    "    s = (df.dtypes == 'object')\n",
    "    categorical_cols = list(s[s].index)\n",
    "    \n",
    "    # calculate summary statistics\n",
    "    data_25, data_75 = percentile(df['BirthWeight'], 25), percentile(df['BirthWeight'], 75)\n",
    "    iqr = data_75 - data_25\n",
    "    birthweight_cut_off = iqr * 1.5\n",
    "    \n",
    "    birthweight_lower, birthweight_upper = data_25 - birthweight_cut_off, data_75 + birthweight_cut_off\n",
    "    df = df[(df['BirthWeight'] >= birthweight_lower) & (df['BirthWeight'] <= birthweight_upper)]\n",
    "    \n",
    "    # identify outliers for averageCostInCounty_mean\n",
    "    averageCostInCounty_25, averageCostInCounty_75 = percentile(df['AverageCostInCounty'], 25), percentile(df['AverageCostInCounty'], 75)\n",
    "    averageCostInCounty_iqr = averageCostInCounty_75 - averageCostInCounty_25\n",
    "    averageCostInCounty_cut_off = averageCostInCounty_iqr * 1.5\n",
    "    averageCostInCounty_lower, averageCostInCounty_upper = averageCostInCounty_25 - averageCostInCounty_cut_off, averageCostInCounty_75 + averageCostInCounty_cut_off\n",
    "    # Remove outliers\n",
    "    df = df[(df['AverageCostInCounty'] >= averageCostInCounty_lower) & (df['AverageCostInCounty'] <= averageCostInCounty_upper)]\n",
    "    \n",
    "    # identify outliers for averageCostInFacility\n",
    "    averageCostInFacility_25, averageCostInFacility_75 = percentile(df['AverageCostInFacility'],25), percentile(df['AverageCostInFacility'], 75)\n",
    "    averageCostInFacility_iqr = averageCostInFacility_75 - averageCostInFacility_25\n",
    "    averageCostInFacility_cut_off = averageCostInFacility_iqr * 1.5\n",
    "    averageCostInFacility_lower, averageCostInFacility_upper = averageCostInFacility_25 - averageCostInFacility_cut_off, averageCostInFacility_75 + averageCostInFacility_cut_off\n",
    "    # Remove outliers\n",
    "    df = df[(df['AverageCostInFacility'] >= averageCostInFacility_lower) & (df['AverageCostInFacility'] <= averageCostInFacility_upper)]\n",
    "    \n",
    "    # One hot encoded categorical features\n",
    "    df = pd.get_dummies(df, columns = categorical_cols)\n",
    "\n",
    "    return df\n"
   ]
  },
  {
   "cell_type": "code",
   "execution_count": 7,
   "metadata": {},
   "outputs": [],
   "source": [
    "data = preprocessingData(data)"
   ]
  },
  {
   "cell_type": "markdown",
   "metadata": {},
   "source": [
    "#### Split the data"
   ]
  },
  {
   "cell_type": "markdown",
   "metadata": {},
   "source": [
    "Next we have to split the original data to train set and validation set with a ratio 80/20. The train set is used to train the data where the val set is used to evaluate the model performance and compare different models."
   ]
  },
  {
   "cell_type": "code",
   "execution_count": 8,
   "metadata": {},
   "outputs": [],
   "source": [
    "# Separate the train data to train and validation data set with ratio 80/20\n",
    "y = data['LengthOfStay']\n",
    "X = data.drop(['LengthOfStay'], axis=1)\n",
    "X_train, X_val, y_train, y_val = train_test_split(X, y, train_size=0.8, test_size=0.2, random_state=42)"
   ]
  },
  {
   "cell_type": "markdown",
   "metadata": {},
   "source": [
    "#### Over Sampling"
   ]
  },
  {
   "cell_type": "code",
   "execution_count": 67,
   "metadata": {},
   "outputs": [
    {
     "data": {
      "text/plain": [
       "0    44592\n",
       "1     8853\n",
       "Name: LengthOfStay, dtype: int64"
      ]
     },
     "execution_count": 67,
     "metadata": {},
     "output_type": "execute_result"
    }
   ],
   "source": [
    "data['LengthOfStay'].value_counts()"
   ]
  },
  {
   "cell_type": "markdown",
   "metadata": {},
   "source": [
    "The target of this data set show imbalance which can cause bias to the model which is affect our final prediction, therefore, we have to balancing the target of the data set by over sampling method using `imblearn` package. We applied SMOTE technique which first selects a minority class instance a at random and finds its k nearest minority class neighbors. Then it will created sample based on the K nearest neighbour class. "
   ]
  },
  {
   "cell_type": "code",
   "execution_count": 9,
   "metadata": {},
   "outputs": [
    {
     "data": {
      "text/plain": [
       "1    35691\n",
       "0    35691\n",
       "Name: LengthOfStay, dtype: int64"
      ]
     },
     "execution_count": 9,
     "metadata": {},
     "output_type": "execute_result"
    }
   ],
   "source": [
    "# Over sampling train data to avoid imbalance data set\n",
    "from imblearn.over_sampling import SMOTE\n",
    "\n",
    "df = pd.concat([X_train, y_train], axis=1)\n",
    "\n",
    "sm = SMOTE(sampling_strategy='minority', random_state=7)\n",
    "\n",
    "# Fit the model to generate the data.\n",
    "oversampled_trainX, oversampled_trainY = sm.fit_sample(df.drop('LengthOfStay', axis=1), df['LengthOfStay'])\n",
    "oversampled_train = pd.concat([pd.DataFrame(oversampled_trainY), pd.DataFrame(oversampled_trainX)], axis=1)\n",
    "oversampled_train['LengthOfStay'].value_counts()"
   ]
  },
  {
   "cell_type": "code",
   "execution_count": 10,
   "metadata": {},
   "outputs": [
    {
     "data": {
      "text/plain": [
       "<AxesSubplot:>"
      ]
     },
     "execution_count": 10,
     "metadata": {},
     "output_type": "execute_result"
    },
    {
     "data": {
      "image/png": "[encoded data removed]",
      "text/plain": [
       "<Figure size 432x288 with 1 Axes>"
      ]
     },
     "metadata": {
      "needs_background": "light"
     },
     "output_type": "display_data"
    }
   ],
   "source": [
    "oversampled_train['LengthOfStay'].value_counts().plot(kind='bar')"
   ]
  },
  {
   "cell_type": "code",
   "execution_count": 11,
   "metadata": {},
   "outputs": [],
   "source": [
    "X_train = oversampled_trainX.copy()\n",
    "y_train = oversampled_trainY.copy()"
   ]
  },
  {
   "cell_type": "markdown",
   "metadata": {},
   "source": [
    "The lightgbm model does not accept feature name with json syntax, so we have to eliminate its."
   ]
  },
  {
   "cell_type": "code",
   "execution_count": 12,
   "metadata": {},
   "outputs": [
    {
     "data": {
      "text/html": [
       "<div>\n",
       "<style scoped>\n",
       "    .dataframe tbody tr th:only-of-type {\n",
       "        vertical-align: middle;\n",
       "    }\n",
       "\n",
       "    .dataframe tbody tr th {\n",
       "        vertical-align: top;\n",
       "    }\n",
       "\n",
       "    .dataframe thead th {\n",
       "        text-align: right;\n",
       "    }\n",
       "</style>\n",
       "<table border=\"1\" class=\"dataframe\">\n",
       "  <thead>\n",
       "    <tr style=\"text-align: right;\">\n",
       "      <th></th>\n",
       "      <th>CCSProcedureCode</th>\n",
       "      <th>APRSeverityOfIllnessCode</th>\n",
       "      <th>BirthWeight</th>\n",
       "      <th>AverageCostInCounty</th>\n",
       "      <th>AverageChargesInCounty</th>\n",
       "      <th>AverageCostInFacility</th>\n",
       "      <th>AverageChargesInFacility</th>\n",
       "      <th>AverageIncomeInZipCode</th>\n",
       "      <th>Gender_F</th>\n",
       "      <th>Gender_M</th>\n",
       "      <th>...</th>\n",
       "      <th>PaymentTypology_FederalStateLocalVA</th>\n",
       "      <th>PaymentTypology_ManagedCareUnspecified</th>\n",
       "      <th>PaymentTypology_Medicaid</th>\n",
       "      <th>PaymentTypology_Medicare</th>\n",
       "      <th>PaymentTypology_MiscellaneousOther</th>\n",
       "      <th>PaymentTypology_PrivateHealthInsurance</th>\n",
       "      <th>PaymentTypology_SelfPay</th>\n",
       "      <th>PaymentTypology_Unknown</th>\n",
       "      <th>EmergencyDepartmentIndicator_N</th>\n",
       "      <th>EmergencyDepartmentIndicator_Y</th>\n",
       "    </tr>\n",
       "  </thead>\n",
       "  <tbody>\n",
       "    <tr>\n",
       "      <th>0</th>\n",
       "      <td>228</td>\n",
       "      <td>1</td>\n",
       "      <td>4400</td>\n",
       "      <td>2785</td>\n",
       "      <td>10644</td>\n",
       "      <td>1069</td>\n",
       "      <td>11619</td>\n",
       "      <td>96</td>\n",
       "      <td>1</td>\n",
       "      <td>0</td>\n",
       "      <td>...</td>\n",
       "      <td>0</td>\n",
       "      <td>0</td>\n",
       "      <td>0</td>\n",
       "      <td>0</td>\n",
       "      <td>0</td>\n",
       "      <td>1</td>\n",
       "      <td>0</td>\n",
       "      <td>0</td>\n",
       "      <td>1</td>\n",
       "      <td>0</td>\n",
       "    </tr>\n",
       "    <tr>\n",
       "      <th>1</th>\n",
       "      <td>228</td>\n",
       "      <td>2</td>\n",
       "      <td>3400</td>\n",
       "      <td>3242</td>\n",
       "      <td>8966</td>\n",
       "      <td>3865</td>\n",
       "      <td>6687</td>\n",
       "      <td>34</td>\n",
       "      <td>1</td>\n",
       "      <td>0</td>\n",
       "      <td>...</td>\n",
       "      <td>0</td>\n",
       "      <td>0</td>\n",
       "      <td>1</td>\n",
       "      <td>0</td>\n",
       "      <td>0</td>\n",
       "      <td>0</td>\n",
       "      <td>0</td>\n",
       "      <td>0</td>\n",
       "      <td>1</td>\n",
       "      <td>0</td>\n",
       "    </tr>\n",
       "    <tr>\n",
       "      <th>2</th>\n",
       "      <td>0</td>\n",
       "      <td>1</td>\n",
       "      <td>2600</td>\n",
       "      <td>1445</td>\n",
       "      <td>3419</td>\n",
       "      <td>557</td>\n",
       "      <td>2179</td>\n",
       "      <td>45</td>\n",
       "      <td>1</td>\n",
       "      <td>0</td>\n",
       "      <td>...</td>\n",
       "      <td>0</td>\n",
       "      <td>0</td>\n",
       "      <td>0</td>\n",
       "      <td>0</td>\n",
       "      <td>0</td>\n",
       "      <td>1</td>\n",
       "      <td>0</td>\n",
       "      <td>0</td>\n",
       "      <td>1</td>\n",
       "      <td>0</td>\n",
       "    </tr>\n",
       "    <tr>\n",
       "      <th>3</th>\n",
       "      <td>228</td>\n",
       "      <td>1</td>\n",
       "      <td>4100</td>\n",
       "      <td>2208</td>\n",
       "      <td>10134</td>\n",
       "      <td>1686</td>\n",
       "      <td>7945</td>\n",
       "      <td>59</td>\n",
       "      <td>1</td>\n",
       "      <td>0</td>\n",
       "      <td>...</td>\n",
       "      <td>0</td>\n",
       "      <td>0</td>\n",
       "      <td>1</td>\n",
       "      <td>0</td>\n",
       "      <td>0</td>\n",
       "      <td>0</td>\n",
       "      <td>0</td>\n",
       "      <td>0</td>\n",
       "      <td>1</td>\n",
       "      <td>0</td>\n",
       "    </tr>\n",
       "    <tr>\n",
       "      <th>4</th>\n",
       "      <td>0</td>\n",
       "      <td>1</td>\n",
       "      <td>3500</td>\n",
       "      <td>2533</td>\n",
       "      <td>3320</td>\n",
       "      <td>2533</td>\n",
       "      <td>3320</td>\n",
       "      <td>52</td>\n",
       "      <td>1</td>\n",
       "      <td>0</td>\n",
       "      <td>...</td>\n",
       "      <td>0</td>\n",
       "      <td>0</td>\n",
       "      <td>0</td>\n",
       "      <td>0</td>\n",
       "      <td>0</td>\n",
       "      <td>0</td>\n",
       "      <td>0</td>\n",
       "      <td>0</td>\n",
       "      <td>1</td>\n",
       "      <td>0</td>\n",
       "    </tr>\n",
       "    <tr>\n",
       "      <th>...</th>\n",
       "      <td>...</td>\n",
       "      <td>...</td>\n",
       "      <td>...</td>\n",
       "      <td>...</td>\n",
       "      <td>...</td>\n",
       "      <td>...</td>\n",
       "      <td>...</td>\n",
       "      <td>...</td>\n",
       "      <td>...</td>\n",
       "      <td>...</td>\n",
       "      <td>...</td>\n",
       "      <td>...</td>\n",
       "      <td>...</td>\n",
       "      <td>...</td>\n",
       "      <td>...</td>\n",
       "      <td>...</td>\n",
       "      <td>...</td>\n",
       "      <td>...</td>\n",
       "      <td>...</td>\n",
       "      <td>...</td>\n",
       "      <td>...</td>\n",
       "    </tr>\n",
       "    <tr>\n",
       "      <th>71377</th>\n",
       "      <td>223</td>\n",
       "      <td>1</td>\n",
       "      <td>2956</td>\n",
       "      <td>3242</td>\n",
       "      <td>8966</td>\n",
       "      <td>2448</td>\n",
       "      <td>13196</td>\n",
       "      <td>34</td>\n",
       "      <td>1</td>\n",
       "      <td>0</td>\n",
       "      <td>...</td>\n",
       "      <td>0</td>\n",
       "      <td>0</td>\n",
       "      <td>1</td>\n",
       "      <td>0</td>\n",
       "      <td>0</td>\n",
       "      <td>0</td>\n",
       "      <td>0</td>\n",
       "      <td>0</td>\n",
       "      <td>1</td>\n",
       "      <td>0</td>\n",
       "    </tr>\n",
       "    <tr>\n",
       "      <th>71378</th>\n",
       "      <td>0</td>\n",
       "      <td>1</td>\n",
       "      <td>2500</td>\n",
       "      <td>2533</td>\n",
       "      <td>3320</td>\n",
       "      <td>2533</td>\n",
       "      <td>3320</td>\n",
       "      <td>56</td>\n",
       "      <td>1</td>\n",
       "      <td>0</td>\n",
       "      <td>...</td>\n",
       "      <td>0</td>\n",
       "      <td>0</td>\n",
       "      <td>0</td>\n",
       "      <td>0</td>\n",
       "      <td>0</td>\n",
       "      <td>0</td>\n",
       "      <td>0</td>\n",
       "      <td>0</td>\n",
       "      <td>1</td>\n",
       "      <td>0</td>\n",
       "    </tr>\n",
       "    <tr>\n",
       "      <th>71379</th>\n",
       "      <td>228</td>\n",
       "      <td>1</td>\n",
       "      <td>2745</td>\n",
       "      <td>1371</td>\n",
       "      <td>5463</td>\n",
       "      <td>1157</td>\n",
       "      <td>4438</td>\n",
       "      <td>62</td>\n",
       "      <td>0</td>\n",
       "      <td>0</td>\n",
       "      <td>...</td>\n",
       "      <td>0</td>\n",
       "      <td>0</td>\n",
       "      <td>0</td>\n",
       "      <td>0</td>\n",
       "      <td>0</td>\n",
       "      <td>1</td>\n",
       "      <td>0</td>\n",
       "      <td>0</td>\n",
       "      <td>1</td>\n",
       "      <td>0</td>\n",
       "    </tr>\n",
       "    <tr>\n",
       "      <th>71380</th>\n",
       "      <td>230</td>\n",
       "      <td>1</td>\n",
       "      <td>3300</td>\n",
       "      <td>3155</td>\n",
       "      <td>11381</td>\n",
       "      <td>2895</td>\n",
       "      <td>13394</td>\n",
       "      <td>65</td>\n",
       "      <td>0</td>\n",
       "      <td>0</td>\n",
       "      <td>...</td>\n",
       "      <td>0</td>\n",
       "      <td>0</td>\n",
       "      <td>0</td>\n",
       "      <td>0</td>\n",
       "      <td>0</td>\n",
       "      <td>0</td>\n",
       "      <td>0</td>\n",
       "      <td>0</td>\n",
       "      <td>1</td>\n",
       "      <td>0</td>\n",
       "    </tr>\n",
       "    <tr>\n",
       "      <th>71381</th>\n",
       "      <td>220</td>\n",
       "      <td>1</td>\n",
       "      <td>3800</td>\n",
       "      <td>2611</td>\n",
       "      <td>9227</td>\n",
       "      <td>1681</td>\n",
       "      <td>8131</td>\n",
       "      <td>45</td>\n",
       "      <td>0</td>\n",
       "      <td>0</td>\n",
       "      <td>...</td>\n",
       "      <td>0</td>\n",
       "      <td>0</td>\n",
       "      <td>1</td>\n",
       "      <td>0</td>\n",
       "      <td>0</td>\n",
       "      <td>0</td>\n",
       "      <td>0</td>\n",
       "      <td>0</td>\n",
       "      <td>1</td>\n",
       "      <td>0</td>\n",
       "    </tr>\n",
       "  </tbody>\n",
       "</table>\n",
       "<p>71382 rows × 30 columns</p>\n",
       "</div>"
      ],
      "text/plain": [
       "       CCSProcedureCode  APRSeverityOfIllnessCode  BirthWeight  \\\n",
       "0                   228                         1         4400   \n",
       "1                   228                         2         3400   \n",
       "2                     0                         1         2600   \n",
       "3                   228                         1         4100   \n",
       "4                     0                         1         3500   \n",
       "...                 ...                       ...          ...   \n",
       "71377               223                         1         2956   \n",
       "71378                 0                         1         2500   \n",
       "71379               228                         1         2745   \n",
       "71380               230                         1         3300   \n",
       "71381               220                         1         3800   \n",
       "\n",
       "       AverageCostInCounty  AverageChargesInCounty  AverageCostInFacility  \\\n",
       "0                     2785                   10644                   1069   \n",
       "1                     3242                    8966                   3865   \n",
       "2                     1445                    3419                    557   \n",
       "3                     2208                   10134                   1686   \n",
       "4                     2533                    3320                   2533   \n",
       "...                    ...                     ...                    ...   \n",
       "71377                 3242                    8966                   2448   \n",
       "71378                 2533                    3320                   2533   \n",
       "71379                 1371                    5463                   1157   \n",
       "71380                 3155                   11381                   2895   \n",
       "71381                 2611                    9227                   1681   \n",
       "\n",
       "       AverageChargesInFacility  AverageIncomeInZipCode  Gender_F  Gender_M  \\\n",
       "0                         11619                      96         1         0   \n",
       "1                          6687                      34         1         0   \n",
       "2                          2179                      45         1         0   \n",
       "3                          7945                      59         1         0   \n",
       "4                          3320                      52         1         0   \n",
       "...                         ...                     ...       ...       ...   \n",
       "71377                     13196                      34         1         0   \n",
       "71378                      3320                      56         1         0   \n",
       "71379                      4438                      62         0         0   \n",
       "71380                     13394                      65         0         0   \n",
       "71381                      8131                      45         0         0   \n",
       "\n",
       "       ...  PaymentTypology_FederalStateLocalVA  \\\n",
       "0      ...                                    0   \n",
       "1      ...                                    0   \n",
       "2      ...                                    0   \n",
       "3      ...                                    0   \n",
       "4      ...                                    0   \n",
       "...    ...                                  ...   \n",
       "71377  ...                                    0   \n",
       "71378  ...                                    0   \n",
       "71379  ...                                    0   \n",
       "71380  ...                                    0   \n",
       "71381  ...                                    0   \n",
       "\n",
       "       PaymentTypology_ManagedCareUnspecified  PaymentTypology_Medicaid  \\\n",
       "0                                           0                         0   \n",
       "1                                           0                         1   \n",
       "2                                           0                         0   \n",
       "3                                           0                         1   \n",
       "4                                           0                         0   \n",
       "...                                       ...                       ...   \n",
       "71377                                       0                         1   \n",
       "71378                                       0                         0   \n",
       "71379                                       0                         0   \n",
       "71380                                       0                         0   \n",
       "71381                                       0                         1   \n",
       "\n",
       "       PaymentTypology_Medicare  PaymentTypology_MiscellaneousOther  \\\n",
       "0                             0                                   0   \n",
       "1                             0                                   0   \n",
       "2                             0                                   0   \n",
       "3                             0                                   0   \n",
       "4                             0                                   0   \n",
       "...                         ...                                 ...   \n",
       "71377                         0                                   0   \n",
       "71378                         0                                   0   \n",
       "71379                         0                                   0   \n",
       "71380                         0                                   0   \n",
       "71381                         0                                   0   \n",
       "\n",
       "       PaymentTypology_PrivateHealthInsurance  PaymentTypology_SelfPay  \\\n",
       "0                                           1                        0   \n",
       "1                                           0                        0   \n",
       "2                                           1                        0   \n",
       "3                                           0                        0   \n",
       "4                                           0                        0   \n",
       "...                                       ...                      ...   \n",
       "71377                                       0                        0   \n",
       "71378                                       0                        0   \n",
       "71379                                       1                        0   \n",
       "71380                                       0                        0   \n",
       "71381                                       0                        0   \n",
       "\n",
       "       PaymentTypology_Unknown  EmergencyDepartmentIndicator_N  \\\n",
       "0                            0                               1   \n",
       "1                            0                               1   \n",
       "2                            0                               1   \n",
       "3                            0                               1   \n",
       "4                            0                               1   \n",
       "...                        ...                             ...   \n",
       "71377                        0                               1   \n",
       "71378                        0                               1   \n",
       "71379                        0                               1   \n",
       "71380                        0                               1   \n",
       "71381                        0                               1   \n",
       "\n",
       "       EmergencyDepartmentIndicator_Y  \n",
       "0                                   0  \n",
       "1                                   0  \n",
       "2                                   0  \n",
       "3                                   0  \n",
       "4                                   0  \n",
       "...                               ...  \n",
       "71377                               0  \n",
       "71378                               0  \n",
       "71379                               0  \n",
       "71380                               0  \n",
       "71381                               0  \n",
       "\n",
       "[71382 rows x 30 columns]"
      ]
     },
     "execution_count": 12,
     "metadata": {},
     "output_type": "execute_result"
    }
   ],
   "source": [
    "# remove inappropriate syntax\n",
    "import re\n",
    "X_train = X_train.rename(columns = lambda x:re.sub('[^A-Za-z0-9_]+', '', x))\n",
    "X_train"
   ]
  },
  {
   "cell_type": "markdown",
   "metadata": {},
   "source": [
    "## Data Modelling"
   ]
  },
  {
   "cell_type": "markdown",
   "metadata": {},
   "source": [
    "In this part, we will train the model and perform hyperparameter tunning using `GridSearchCV` to choose the best parameter for the model. In the evaluation metrics, we will use accuraccy, f1-score, recall score and ROC curve to examine the performance of the model. Another factor to consider is the trainning time."
   ]
  },
  {
   "cell_type": "code",
   "execution_count": 13,
   "metadata": {},
   "outputs": [],
   "source": [
    "# Import ML library\n",
    "from sklearn.metrics import classification_report, f1_score, accuracy_score, recall_score\n",
    "from sklearn.ensemble import RandomForestClassifier\n",
    "from sklearn.ensemble import AdaBoostClassifier\n",
    "from sklearn.linear_model import LogisticRegression\n",
    "from sklearn.model_selection import KFold, StratifiedKFold, cross_val_score, train_test_split, RandomizedSearchCV\n",
    "from sklearn.preprocessing import RobustScaler\n",
    "from sklearn.pipeline import make_pipeline\n",
    "from sklearn.model_selection import GridSearchCV\n",
    "from sklearn.svm import SVC\n",
    "\n",
    "import pickle"
   ]
  },
  {
   "cell_type": "code",
   "execution_count": 14,
   "metadata": {},
   "outputs": [],
   "source": [
    "\n",
    "def evaluate_model_performance(clf, X_train, y_train):\n",
    "    '''evaluate a model's accuracy and F1-score\n",
    "    INPUT:\n",
    "    clf - Model object\n",
    "    X_train - Training data matrix\n",
    "    y_train - Expected model output vector\n",
    "    OUTPUT:\n",
    "    clf_accuracy: Model accuracy\n",
    "    clf_f1_score: Model F1-score\n",
    "    '''\n",
    "    y_pred_rf = clf.predict(X_train)\n",
    "    clf_accuracy = accuracy_score(y_train, y_pred_rf)\n",
    "    clf_f1_score = f1_score(y_train, y_pred_rf)\n",
    "    clf_recall_score = recall_score(y_train, y_pred_rf, average='binary')\n",
    "    print(\"model accuracy: %.3f\" % (clf_accuracy))\n",
    "    print(\"model f1-score: %.3f\" % (clf_f1_score))\n",
    "    print(\"model recall-score: %.3f\" % (clf_recall_score))\n",
    "\n",
    "    return clf_accuracy, clf_f1_score, clf_recall_score"
   ]
  },
  {
   "cell_type": "code",
   "execution_count": 15,
   "metadata": {},
   "outputs": [],
   "source": [
    "from sklearn.metrics import confusion_matrix, accuracy_score, roc_auc_score, roc_curve\n",
    "\n",
    "def plot_ROC(y_train_true, y_train_prob, y_test_true, y_test_prob):\n",
    "    '''\n",
    "    a funciton to plot the ROC curve for train labels and test labels.\n",
    "     INPUT:\n",
    "    y_train_true: True binary labels of 0 or 1 in the training dataset\n",
    "    y_train_prob: Probability in range {0,1} predicted by the model for the training dataset\n",
    "    y_test_true: True binary labels of 0 or 1 in the testing dataset\n",
    "    y_test_prob: Probability in range {0,1} predicted by the model for the testing dataset\n",
    "    '''\n",
    "    fpr_train, tpr_train, thresholds_train = roc_curve(y_train_true, y_train_prob, pos_label =True)\n",
    "    sum_sensitivity_specificity_train = tpr_train + (1-fpr_train)\n",
    "    best_threshold_id_train = np.argmax(sum_sensitivity_specificity_train)\n",
    "    best_threshold = thresholds_train[best_threshold_id_train]\n",
    "    best_fpr_train = fpr_train[best_threshold_id_train]\n",
    "    best_tpr_train = tpr_train[best_threshold_id_train]\n",
    "    y_train = y_train_prob > best_threshold\n",
    "\n",
    "    cm_train = confusion_matrix(y_train_true, y_train)\n",
    "    acc_train = accuracy_score(y_train_true, y_train)\n",
    "    auc_train = roc_auc_score(y_train_true, y_train)\n",
    "\n",
    "    print ('Train Accuracy: %s ' %acc_train)\n",
    "    print ('Train AUC: %s ' %auc_train)\n",
    "    print ('Train Confusion Matrix:')\n",
    "    print (cm_train)\n",
    "\n",
    "    fig = plt.figure(figsize=(20,5))\n",
    "    ax = fig.add_subplot(121)\n",
    "    curve1 = ax.plot(fpr_train, tpr_train)\n",
    "    curve2 = ax.plot([0, 1], [0, 1], color='navy', linestyle='--')\n",
    "    dot = ax.plot(best_fpr_train, best_tpr_train, marker='o', color='black')\n",
    "    ax.text(best_fpr_train, best_tpr_train, s = '(%.3f,%.3f)' %(best_fpr_train, best_tpr_train))\n",
    "    plt.xlabel('False Positive Rate')\n",
    "    plt.ylabel('True Positive Rate')\n",
    "    plt.title('ROC curve (Train), AUC = %.4f'%auc_train)\n",
    "\n",
    "    fpr_test, tpr_test, thresholds_test = roc_curve(y_test_true, y_test_prob, pos_label =True)\n",
    "\n",
    "    y_test = y_test_prob > best_threshold\n",
    "\n",
    "    cm_test = confusion_matrix(y_test_true, y_test)\n",
    "    acc_test = accuracy_score(y_test_true, y_test)\n",
    "    auc_test = roc_auc_score(y_test_true, y_test)\n",
    "\n",
    "    print ('Test Accuracy: %s ' %acc_test)\n",
    "    print ('Test AUC: %s ' %auc_test)\n",
    "    print ('Test Confusion Matrix:')\n",
    "    print (cm_test)\n",
    "\n",
    "    tpr_score = float(cm_test[1][1])/(cm_test[1][1] + cm_test[1][0])\n",
    "    fpr_score = float(cm_test[0][1])/(cm_test[0][0]+ cm_test[0][1])\n",
    "\n",
    "    ax2 = fig.add_subplot(122)\n",
    "    curve1 = ax2.plot(fpr_test, tpr_test)\n",
    "    curve2 = ax2.plot([0, 1], [0, 1], color='navy', linestyle='--')\n",
    "    dot = ax2.plot(fpr_score, tpr_score, marker='o', color='black')\n",
    "    ax2.text(fpr_score, tpr_score, s = '(%.3f,%.3f)' %(fpr_score, tpr_score))\n",
    "    plt.ylabel('True Positive Rate')\n",
    "    plt.title('ROC curve (Test), AUC = %.4f'%auc_test)\n",
    "    plt.show()\n",
    "\n",
    "    return best_threshold\n"
   ]
  },
  {
   "cell_type": "markdown",
   "metadata": {},
   "source": [
    "### Hyperparameter Tunning and Model Evaluation"
   ]
  },
  {
   "cell_type": "code",
   "execution_count": 16,
   "metadata": {},
   "outputs": [],
   "source": [
    "model_score = []\n"
   ]
  },
  {
   "cell_type": "markdown",
   "metadata": {},
   "source": [
    "#### 1. Gaussian Naive Bayes"
   ]
  },
  {
   "cell_type": "markdown",
   "metadata": {},
   "source": [
    "The first algorithm we use is a basic and fast classification model based on the Naive Bayes' theorem which will calculate the probability of the hypothesis based on the prior knowledge. The mathematics expression behind the model is from the Naive Bayes' theorem expression:  \n",
    "$$P(hypothesis/data) = \\frac{ (P(data|hypothesis) * P(hypothesis))}{P(data)}$$  \n",
    "We will use the theorem to calculate the probability of different hypothesiss and find one with highest probability, the maximum hypothesis and can be called formally as the maximum a posteriori (MAP) hypothesis which is:\n",
    "$$MAP(hypothesis) = max(P(data|hypothesis) * P(hypothesis))$$  \n",
    "The Naive bayes model applied below is a variant of orginal naive bayes with added an assumption is the data is Gaussian Distribution. Since the Naive Bayes model have a very strong assumption above the data so most of the time, the prediction accuracy is low. However, since it is fast to train, so I try to train the naive bayes first to have an overview about the data set and see if there is a problem exist in the data set that can have significant effect to the prediction result."
   ]
  },
  {
   "cell_type": "code",
   "execution_count": 17,
   "metadata": {},
   "outputs": [
    {
     "name": "stdout",
     "output_type": "stream",
     "text": [
      "Best Score:  0.317990457479652\n",
      "CPU times: user 51.5 ms, sys: 23 ms, total: 74.4 ms\n",
      "Wall time: 73.9 ms\n"
     ]
    }
   ],
   "source": [
    "%%time\n",
    "from sklearn.naive_bayes import GaussianNB\n",
    "\n",
    "nb_clf =  GaussianNB()\n",
    "\n",
    "nb_clf.fit(X_train, y_train)  \n",
    "\n",
    "print('Best Score: ', nb_clf.score(X_val, y_val))"
   ]
  },
  {
   "cell_type": "code",
   "execution_count": 18,
   "metadata": {},
   "outputs": [
    {
     "name": "stdout",
     "output_type": "stream",
     "text": [
      "model accuracy: 0.318\n",
      "model f1-score: 0.296\n",
      "model recall-score: 0.857\n"
     ]
    }
   ],
   "source": [
    "acc, f1, recall = evaluate_model_performance(nb_clf, X_val, y_val)\n",
    "model_score.append(['Gaussian Naive Bayes', acc, f1, recall])"
   ]
  },
  {
   "cell_type": "code",
   "execution_count": 19,
   "metadata": {},
   "outputs": [
    {
     "name": "stdout",
     "output_type": "stream",
     "text": [
      "Train Accuracy: 0.7167072931551371 \n",
      "Train AUC: 0.7167072931551371 \n",
      "Train Confusion Matrix:\n",
      "[[28140  7551]\n",
      " [12671 23020]]\n",
      "Test Accuracy: 0.7296285901393956 \n",
      "Test AUC: 0.6090503178513236 \n",
      "Test Confusion Matrix:\n",
      "[[7034 1867]\n",
      " [1023  765]]\n"
     ]
    },
    {
     "data": {
      "image/png": "[encoded data removed]",
      "text/plain": [
       "<Figure size 1440x360 with 2 Axes>"
      ]
     },
     "metadata": {
      "needs_background": "light"
     },
     "output_type": "display_data"
    },
    {
     "data": {
      "text/plain": [
       "0.9094881299696276"
      ]
     },
     "execution_count": 19,
     "metadata": {},
     "output_type": "execute_result"
    }
   ],
   "source": [
    "y_test_pred_proba = nb_clf.predict_proba(X_val)[::,1]\n",
    "y_train_pred_proba = nb_clf.predict_proba(X_train)[::,1]\n",
    "plot_ROC(y_train, y_train_pred_proba, y_val, y_test_pred_proba)"
   ]
  },
  {
   "cell_type": "markdown",
   "metadata": {},
   "source": [
    "From the result, one of the most important thing we can see is the data have no problems which can cause bias or variance, the performance of model on validation data set is smaller than in the train data set but the different is small. The model performance is fine which is expected since the algorithm have a strong assumption about the data. Next, we have to examine the confusion matric of the model "
   ]
  },
  {
   "cell_type": "code",
   "execution_count": 20,
   "metadata": {},
   "outputs": [],
   "source": [
    "with open(\"model/nb_clf.pkl\", 'wb') as file:\n",
    "    pickle.dump(nb_clf, file)"
   ]
  },
  {
   "cell_type": "markdown",
   "metadata": {},
   "source": [
    "#### 2. Logistic regression"
   ]
  },
  {
   "cell_type": "markdown",
   "metadata": {},
   "source": [
    "Logistic regression is a classification using linear approach with a logistic function (sigmoid function):  \n",
    "$$\\frac{1}{1+e^{-x}}$$  \n",
    "The logistic regression used an equation such as linear regression, it also have a weight value for the variable. However there are two key different between linear regression and logistic regression: the hythesis equation of the logistic regression is in sigmoid form and the predicted value is from 0 and 1. The example of the logistic regression is:  \n",
    "$$\\frac{1}{1+e^{-\\theta X}}$$  \n",
    "Since the main objective of this notebook is to evaluate the logistic regression compare to other classification model so to increase the model performancem we have to perform hyperparameter tunning to set the best configuration to have highest probability. \n",
    "* `solver`: Algorithm use to optimization. In this problem since the data is big with approx 70000 records and done have any problems as stated above, I choose The parameters I choose are:  Limited-memory Broyden–Fletcher–Goldfarb–Shanno Algorithm (lbfgs) and a Library for Large Linear Classification (liblinear).   \n",
    "* `penalty`: The regularization to advoid over and underfitting issue, I choose l2 regularization because it is used with two above mentioned solver.  \n",
    "* `C`: the regulation strength  \n",
    "* `max_iter`: The maximum iteration to solver to converge, since the data have 13 features and 70000 records, thus, I assump that it take many interation to converge."
   ]
  },
  {
   "cell_type": "code",
   "execution_count": 21,
   "metadata": {},
   "outputs": [
    {
     "name": "stdout",
     "output_type": "stream",
     "text": [
      "Fitting 10 folds for each of 24 candidates, totalling 240 fits\n"
     ]
    },
    {
     "name": "stderr",
     "output_type": "stream",
     "text": [
      "[Parallel(n_jobs=4)]: Using backend LokyBackend with 4 concurrent workers.\n",
      "[Parallel(n_jobs=4)]: Done  42 tasks      | elapsed:   37.6s\n",
      "[Parallel(n_jobs=4)]: Done 192 tasks      | elapsed:  4.6min\n",
      "[Parallel(n_jobs=4)]: Done 240 out of 240 | elapsed:  5.9min finished\n"
     ]
    },
    {
     "name": "stdout",
     "output_type": "stream",
     "text": [
      "Best Score:  82.4305090004977 \n",
      "Best Parameters:  {'C': 0.1, 'max_iter': 5000, 'penalty': 'l2', 'solver': 'liblinear'}\n",
      "CPU times: user 3.03 s, sys: 295 ms, total: 3.32 s\n",
      "Wall time: 5min 59s\n"
     ]
    }
   ],
   "source": [
    "%%time\n",
    "\n",
    "model =  LogisticRegression()\n",
    "\n",
    "parameters = {\n",
    "    'penalty': ['l2'],\n",
    "    'solver': ['lbfgs', 'liblinear'],\n",
    "    'C': [ 0.01, 0.1, 10, 100],\n",
    "    'max_iter': [5000, 10000, 20000]\n",
    "}\n",
    "\n",
    "log_reg = GridSearchCV(model, parameters, refit=True, verbose=1, cv = 10, n_jobs = 4)\n",
    "log_reg.fit(X_train, y_train)\n",
    "\n",
    "print('Best Score: ', log_reg.best_score_*100, '\\nBest Parameters: ', log_reg.best_params_)\n"
   ]
  },
  {
   "cell_type": "code",
   "execution_count": 22,
   "metadata": {},
   "outputs": [
    {
     "name": "stdout",
     "output_type": "stream",
     "text": [
      "model accuracy: 0.832\n",
      "model f1-score: 0.286\n",
      "model recall-score: 0.202\n"
     ]
    }
   ],
   "source": [
    "acc, f1, recall = evaluate_model_performance(log_reg, X_val, y_val)\n",
    "model_score.append(['Logistic regression', acc, f1, recall])"
   ]
  },
  {
   "cell_type": "code",
   "execution_count": 23,
   "metadata": {},
   "outputs": [
    {
     "name": "stdout",
     "output_type": "stream",
     "text": [
      "Train Accuracy: 0.8329130593146732 \n",
      "Train AUC: 0.8329130593146732 \n",
      "Train Confusion Matrix:\n",
      "[[34102  1589]\n",
      " [10338 25353]]\n",
      "Test Accuracy: 0.830947703246328 \n",
      "Test AUC: 0.5822864899426881 \n",
      "Test Confusion Matrix:\n",
      "[[8509  392]\n",
      " [1415  373]]\n"
     ]
    },
    {
     "data": {
      "image/png": "[encoded data removed]",
      "text/plain": [
       "<Figure size 1440x360 with 2 Axes>"
      ]
     },
     "metadata": {
      "needs_background": "light"
     },
     "output_type": "display_data"
    },
    {
     "data": {
      "text/plain": [
       "0.49297471270813153"
      ]
     },
     "execution_count": 23,
     "metadata": {},
     "output_type": "execute_result"
    }
   ],
   "source": [
    "y_test_pred_proba = log_reg.predict_proba(X_val)[::,1]\n",
    "y_train_pred_proba = log_reg.predict_proba(X_train)[::,1]\n",
    "plot_ROC(y_train, y_train_pred_proba, y_val, y_test_pred_proba)"
   ]
  },
  {
   "cell_type": "markdown",
   "metadata": {},
   "source": [
    "As we can see, overall the model performance is good with over 80% accuraccy and have score 0.886 when I submit in Kaggle competition. The number of false positive is low, therefore, we can conclude that logistic regression is a decent model and can perform well in this problem. However we need to compare the performance of logistic regression with other model before to see how it perform when comparing with other models when applied in this problems."
   ]
  },
  {
   "cell_type": "code",
   "execution_count": 24,
   "metadata": {},
   "outputs": [],
   "source": [
    "with open(\"model/log_reg.pkl\", 'wb') as file:\n",
    "    pickle.dump(log_reg, file)"
   ]
  },
  {
   "cell_type": "markdown",
   "metadata": {},
   "source": [
    "#### 3. AdaBoostClassifier"
   ]
  },
  {
   "cell_type": "markdown",
   "metadata": {},
   "source": [
    "The core of Adaboost is to combine the sequence of weak learners, then its combine all of the prediction through a weighted majority sum to produce final prediction. After each iteration, the weight is changed to reduce error rate. From that, I choose two parameters to tune which are:  \n",
    "* `n_estimator`: the number of weak learners. The higher number of weak learner the lower error rate.\n",
    "* `learning_rate`: Control the contribution of weak learners "
   ]
  },
  {
   "cell_type": "code",
   "execution_count": 25,
   "metadata": {},
   "outputs": [
    {
     "name": "stdout",
     "output_type": "stream",
     "text": [
      "Fitting 10 folds for each of 20 candidates, totalling 200 fits\n"
     ]
    },
    {
     "name": "stderr",
     "output_type": "stream",
     "text": [
      "[Parallel(n_jobs=4)]: Using backend LokyBackend with 4 concurrent workers.\n",
      "[Parallel(n_jobs=4)]: Done  42 tasks      | elapsed:  4.4min\n",
      "[Parallel(n_jobs=4)]: Done 192 tasks      | elapsed: 19.0min\n",
      "[Parallel(n_jobs=4)]: Done 200 out of 200 | elapsed: 20.1min finished\n"
     ]
    },
    {
     "name": "stdout",
     "output_type": "stream",
     "text": [
      "Best Score:  83.8804349417332 \n",
      "Best Parameters:  {'learning_rate': 0.5, 'n_estimators': 800}\n",
      "CPU times: user 28.6 s, sys: 233 ms, total: 28.8 s\n",
      "Wall time: 20min 35s\n"
     ]
    }
   ],
   "source": [
    "%%time\n",
    "\n",
    "model = AdaBoostClassifier()\n",
    "\n",
    "parameters = {\n",
    "    'n_estimators': [200, 300, 500, 600, 800],\n",
    "    'learning_rate':[0.001, 0.1, 0.2, 0.5]\n",
    "}\n",
    "\n",
    "ada_clf = GridSearchCV(model, parameters, refit=True, verbose=1, cv = 10, n_jobs = 4)\n",
    "ada_clf.fit(X_train, y_train)\n",
    "\n",
    "print('Best Score: ', ada_clf.best_score_*100, '\\nBest Parameters: ', ada_clf.best_params_)"
   ]
  },
  {
   "cell_type": "code",
   "execution_count": 26,
   "metadata": {},
   "outputs": [
    {
     "name": "stdout",
     "output_type": "stream",
     "text": [
      "model accuracy: 0.833\n",
      "model f1-score: 0.321\n",
      "model recall-score: 0.236\n"
     ]
    }
   ],
   "source": [
    "acc, f1, recall = evaluate_model_performance(ada_clf, X_val, y_val)\n",
    "model_score.append(['Adaboost classifier', acc, f1, recall])"
   ]
  },
  {
   "cell_type": "code",
   "execution_count": 27,
   "metadata": {},
   "outputs": [
    {
     "name": "stdout",
     "output_type": "stream",
     "text": [
      "Train Accuracy: 0.8494718556498837 \n",
      "Train AUC: 0.8494718556498837 \n",
      "Train Confusion Matrix:\n",
      "[[33291  2400]\n",
      " [ 8345 27346]]\n",
      "Test Accuracy: 0.8275797548882028 \n",
      "Test AUC: 0.6222763410189188 \n",
      "Test Confusion Matrix:\n",
      "[[8285  616]\n",
      " [1227  561]]\n"
     ]
    },
    {
     "data": {
      "image/png": "[encoded data removed]",
      "text/plain": [
       "<Figure size 1440x360 with 2 Axes>"
      ]
     },
     "metadata": {
      "needs_background": "light"
     },
     "output_type": "display_data"
    },
    {
     "data": {
      "text/plain": [
       "0.4998766153192501"
      ]
     },
     "execution_count": 27,
     "metadata": {},
     "output_type": "execute_result"
    }
   ],
   "source": [
    "y_test_pred_proba = ada_clf.predict_proba(X_val)[::,1]\n",
    "y_train_pred_proba = ada_clf.predict_proba(X_train)[::,1]\n",
    "plot_ROC(y_train, y_train_pred_proba, y_val, y_test_pred_proba)"
   ]
  },
  {
   "cell_type": "markdown",
   "metadata": {},
   "source": [
    "The result is excelent with very high accuracy 85% and also the accuraccy score on Kaggle competition is over 0.9. The ROC curve also show there is not exist any problems in overfitting or underfitting and the false positive is low. From the result, the author believe that adaboost is one of the best model in this problems."
   ]
  },
  {
   "cell_type": "code",
   "execution_count": 28,
   "metadata": {},
   "outputs": [],
   "source": [
    "with open(\"model/ada_clf.pkl\", 'wb') as file:\n",
    "    pickle.dump(ada_clf, file)"
   ]
  },
  {
   "cell_type": "markdown",
   "metadata": {},
   "source": [
    "#### 4. K Neighbors Classifier"
   ]
  },
  {
   "cell_type": "markdown",
   "metadata": {},
   "source": [
    "` KNeighborsClassifier` is based on k nearest neighbours (KNN) algorithm which is a non-parametric and lazy learning algorithm. This machine learning methods is not made any prior assumption about the data and they done need any trainning data point for make the model. In KNN classifier, the basic step of the algorithm are: \n",
    "1. Calculate the distance by a chosen methods such as Euclidean distance, Hamming distance, Manhattan distance and Minkowski distance \n",
    "2. Find closest neighbour \n",
    "3. Vote for labels  \n",
    "\n",
    "From the algorithms principle, three most important parameter is tunned are: \n",
    "* `n_neighbors`: number of neighbors used for queries \n",
    "* `weights`: weight function used in prediction \n",
    "* `metric`: the distance metric to use for the tree."
   ]
  },
  {
   "cell_type": "code",
   "execution_count": 29,
   "metadata": {},
   "outputs": [
    {
     "name": "stdout",
     "output_type": "stream",
     "text": [
      "Fitting 10 folds for each of 30 candidates, totalling 300 fits\n"
     ]
    },
    {
     "name": "stderr",
     "output_type": "stream",
     "text": [
      "[Parallel(n_jobs=4)]: Using backend LokyBackend with 4 concurrent workers.\n",
      "[Parallel(n_jobs=4)]: Done  42 tasks      | elapsed:    9.3s\n",
      "[Parallel(n_jobs=4)]: Done 192 tasks      | elapsed:   41.0s\n",
      "[Parallel(n_jobs=4)]: Done 300 out of 300 | elapsed:  1.1min finished\n"
     ]
    },
    {
     "name": "stdout",
     "output_type": "stream",
     "text": [
      "Best Score:  83.95992306004952 \n",
      "Best Parameters:  {'metric': 'manhattan', 'n_neighbors': 3, 'weights': 'distance'}\n"
     ]
    }
   ],
   "source": [
    "from sklearn.neighbors import KNeighborsClassifier\n",
    "\n",
    "model =  KNeighborsClassifier()\n",
    "\n",
    "parameters = { \n",
    "    'n_neighbors':[1, 3, 5, 10, 15],\n",
    "    'weights':['uniform', 'distance'],\n",
    "    'metric':['euclidean', 'manhattan', 'minkowski'] \n",
    "}\n",
    "\n",
    "knn_clf= GridSearchCV(model, parameters, refit=True, verbose=1, cv = 10, n_jobs = 4)\n",
    "knn_clf.fit(X_train, y_train)\n",
    "\n",
    "print('Best Score: ', knn_clf.best_score_*100, '\\nBest Parameters: ', knn_clf.best_params_)\n"
   ]
  },
  {
   "cell_type": "code",
   "execution_count": 30,
   "metadata": {},
   "outputs": [
    {
     "name": "stdout",
     "output_type": "stream",
     "text": [
      "model accuracy: 0.763\n",
      "model f1-score: 0.290\n",
      "model recall-score: 0.290\n"
     ]
    }
   ],
   "source": [
    "acc, f1, recall = evaluate_model_performance(knn_clf, X_val, y_val)\n",
    "model_score.append(['K-Nearest neighbours classifier', acc, f1, recall])"
   ]
  },
  {
   "cell_type": "code",
   "execution_count": 31,
   "metadata": {},
   "outputs": [
    {
     "name": "stdout",
     "output_type": "stream",
     "text": [
      "Train Accuracy: 0.9561794289877 \n",
      "Train AUC: 0.9561794289876999 \n",
      "Train Confusion Matrix:\n",
      "[[35505   186]\n",
      " [ 2942 32749]]\n",
      "Test Accuracy: 0.788006361680232 \n",
      "Test AUC: 0.5520334982344944 \n",
      "Test Confusion Matrix:\n",
      "[[8070  831]\n",
      " [1435  353]]\n"
     ]
    },
    {
     "data": {
      "image/png": "[encoded data removed]",
      "text/plain": [
       "<Figure size 1440x360 with 2 Axes>"
      ]
     },
     "metadata": {
      "needs_background": "light"
     },
     "output_type": "display_data"
    },
    {
     "data": {
      "text/plain": [
       "0.6666666666666666"
      ]
     },
     "execution_count": 31,
     "metadata": {},
     "output_type": "execute_result"
    }
   ],
   "source": [
    "y_test_pred_proba = knn_clf.predict_proba(X_val)[::,1]\n",
    "y_train_pred_proba = knn_clf.predict_proba(X_train)[::,1]\n",
    "plot_ROC(y_train, y_train_pred_proba, y_val, y_test_pred_proba)"
   ]
  },
  {
   "cell_type": "markdown",
   "metadata": {},
   "source": [
    "The metric show that KNNClassifier have very high accuracy and f1 score, the ROC curve show a quite large different in the model performance between train set and test set which prove that the model is slightly overfit the train data set. "
   ]
  },
  {
   "cell_type": "code",
   "execution_count": 32,
   "metadata": {},
   "outputs": [],
   "source": [
    "with open(\"model/knn_clf.pkl\", 'wb') as file:\n",
    "    pickle.dump(knn_clf, file)"
   ]
  },
  {
   "cell_type": "markdown",
   "metadata": {},
   "source": [
    "#### 5. Random Forest Classifier"
   ]
  },
  {
   "cell_type": "markdown",
   "metadata": {},
   "source": [
    "The Random Forest Classifier is the averaging algorithm based on randomize decision trees. The model will split the data randomly and construct a decision tree based on each sub set of data, then it will perform voting and make prediction. In parameter tunning, several parameters is tunned:\n",
    "* `n_estimators`: number of sub trees \n",
    "* `max_features`: number of features to consider in each sub trees \n",
    "* `max_depth`: the maximum depth of the trees \n",
    "* `min_samples_split`: the minimum number of samples require to split a node \n",
    "* `min_samples_leaf`: The minimum number of samples required to be at a leaf node"
   ]
  },
  {
   "cell_type": "code",
   "execution_count": 33,
   "metadata": {},
   "outputs": [
    {
     "name": "stdout",
     "output_type": "stream",
     "text": [
      "Fitting 10 folds for each of 288 candidates, totalling 2880 fits\n"
     ]
    },
    {
     "name": "stderr",
     "output_type": "stream",
     "text": [
      "[Parallel(n_jobs=4)]: Using backend LokyBackend with 4 concurrent workers.\n",
      "[Parallel(n_jobs=4)]: Done  42 tasks      | elapsed:  1.3min\n",
      "[Parallel(n_jobs=4)]: Done 192 tasks      | elapsed:  6.4min\n",
      "[Parallel(n_jobs=4)]: Done 442 tasks      | elapsed: 18.4min\n",
      "[Parallel(n_jobs=4)]: Done 792 tasks      | elapsed: 37.7min\n",
      "[Parallel(n_jobs=4)]: Done 1242 tasks      | elapsed: 60.6min\n",
      "[Parallel(n_jobs=4)]: Done 1792 tasks      | elapsed: 88.5min\n",
      "[Parallel(n_jobs=4)]: Done 2442 tasks      | elapsed: 121.4min\n",
      "[Parallel(n_jobs=4)]: Done 2880 out of 2880 | elapsed: 143.6min finished\n"
     ]
    },
    {
     "name": "stdout",
     "output_type": "stream",
     "text": [
      "Best Score:  87.65302459181137 \n",
      "Best Parameters:  {'max_depth': 70, 'max_features': 'auto', 'min_samples_leaf': 1, 'min_samples_split': 5, 'n_estimators': 200}\n"
     ]
    }
   ],
   "source": [
    "from sklearn.ensemble import RandomForestClassifier\n",
    "\n",
    "model =  RandomForestClassifier()\n",
    "\n",
    "max_depth = [int(x) for x in np.linspace(10, 110, num = 11)]\n",
    "max_depth.append(None)\n",
    "\n",
    "parameters = {'n_estimators': [100, 200, 300],\n",
    "               'max_features': ['auto', 'sqrt'],\n",
    "               'max_depth': max_depth,\n",
    "               'min_samples_split': [2, 5],\n",
    "               'min_samples_leaf': [1, 2] }\n",
    "\n",
    "rf_clf= GridSearchCV(model, parameters, refit=True, verbose=1, cv = 10, n_jobs = 4)\n",
    "rf_clf.fit(X_train, y_train)\n",
    "\n",
    "print('Best Score: ', rf_clf.best_score_*100, '\\nBest Parameters: ', rf_clf.best_params_)\n",
    "\n",
    "\n"
   ]
  },
  {
   "cell_type": "code",
   "execution_count": 34,
   "metadata": {},
   "outputs": [
    {
     "name": "stdout",
     "output_type": "stream",
     "text": [
      "model accuracy: 0.807\n",
      "model f1-score: 0.330\n",
      "model recall-score: 0.285\n"
     ]
    }
   ],
   "source": [
    "acc, f1, recall = evaluate_model_performance(rf_clf, X_val, y_val)\n",
    "model_score.append(['Random Forest', acc, f1, recall])"
   ]
  },
  {
   "cell_type": "code",
   "execution_count": 35,
   "metadata": {},
   "outputs": [
    {
     "name": "stdout",
     "output_type": "stream",
     "text": [
      "Train Accuracy: 0.9525650724272225 \n",
      "Train AUC: 0.9525650724272225 \n",
      "Train Confusion Matrix:\n",
      "[[34304  1387]\n",
      " [ 1999 33692]]\n",
      "Test Accuracy: 0.7979230985124894 \n",
      "Test AUC: 0.6120672852533725 \n",
      "Test Confusion Matrix:\n",
      "[[7934  967]\n",
      " [1193  595]]\n"
     ]
    },
    {
     "data": {
      "image/png": "[encoded data removed]",
      "text/plain": [
       "<Figure size 1440x360 with 2 Axes>"
      ]
     },
     "metadata": {
      "needs_background": "light"
     },
     "output_type": "display_data"
    },
    {
     "data": {
      "text/plain": [
       "0.4586448412698417"
      ]
     },
     "execution_count": 35,
     "metadata": {},
     "output_type": "execute_result"
    }
   ],
   "source": [
    "y_test_pred_proba = rf_clf.predict_proba(X_val)[::,1]\n",
    "y_train_pred_proba = rf_clf.predict_proba(X_train)[::,1]\n",
    "plot_ROC(y_train, y_train_pred_proba, y_val, y_test_pred_proba)"
   ]
  },
  {
   "cell_type": "markdown",
   "metadata": {},
   "source": [
    "Similar to KNNclassifier, the model show exelent performance in te train set and it have decrease quit significant in the validation set which prove that the model is overfit the data in general "
   ]
  },
  {
   "cell_type": "code",
   "execution_count": 36,
   "metadata": {},
   "outputs": [],
   "source": [
    "with open(\"model/rf_clf.pkl\", 'wb') as file:\n",
    "    pickle.dump(rf_clf, file)"
   ]
  },
  {
   "cell_type": "markdown",
   "metadata": {},
   "source": [
    "#### 6. LightGBM"
   ]
  },
  {
   "cell_type": "markdown",
   "metadata": {},
   "source": [
    "The lightGBM is an gradient boosting model uses tree based learning algorithms. It is widely known as the more efficient version of XGBoosting model and can have great performance when dealing with large data set. "
   ]
  },
  {
   "cell_type": "code",
   "execution_count": 39,
   "metadata": {},
   "outputs": [
    {
     "name": "stdout",
     "output_type": "stream",
     "text": [
      "Fitting 5 folds for each of 72 candidates, totalling 360 fits\n"
     ]
    },
    {
     "name": "stderr",
     "output_type": "stream",
     "text": [
      "[Parallel(n_jobs=4)]: Using backend LokyBackend with 4 concurrent workers.\n",
      "[Parallel(n_jobs=4)]: Done  42 tasks      | elapsed:   10.5s\n",
      "[Parallel(n_jobs=4)]: Done 192 tasks      | elapsed:   44.4s\n",
      "[Parallel(n_jobs=4)]: Done 360 out of 360 | elapsed:  2.3min finished\n"
     ]
    },
    {
     "name": "stdout",
     "output_type": "stream",
     "text": [
      "[LightGBM] [Warning] min_data_in_leaf is set=30, min_child_samples=20 will be ignored. Current value: min_data_in_leaf=30\n",
      "[LightGBM] [Warning] Accuracy may be bad since you didn't explicitly set num_leaves OR 2^max_depth > num_leaves. (num_leaves=31).\n",
      "{'boosting_type': 'gbdt', 'learning_rate': 0.1, 'max_depth': 10, 'min_data_in_leaf': 30}\n",
      "0.8442778566486219\n"
     ]
    }
   ],
   "source": [
    "import lightgbm as lgb \n",
    "\n",
    "model = lgb.LGBMClassifier()\n",
    "# Create parameters to search\n",
    "gridParams = {\n",
    "    'learning_rate': [0.01, 0.1, 0.001],\n",
    "    'max_depth': [5, 10, 15, None],\n",
    "    'min_data_in_leaf': [30, 50, 100],\n",
    "    'boosting_type': ['gbdt', 'dart']\n",
    "    }\n",
    "\n",
    "# To view the default model params:\n",
    "model.get_params().keys()\n",
    "\n",
    "# Create the grid\n",
    "lgb_clf = GridSearchCV(model, gridParams,\n",
    "                    verbose=1,\n",
    "                    cv = 5,\n",
    "                    n_jobs = 4)\n",
    "# Run the grid\n",
    "lgb_clf.fit(X_train, y_train)\n",
    "\n",
    "# Print the best parameters found\n",
    "print(lgb_clf.best_params_)\n",
    "print(lgb_clf.best_score_)"
   ]
  },
  {
   "cell_type": "code",
   "execution_count": 41,
   "metadata": {},
   "outputs": [
    {
     "name": "stdout",
     "output_type": "stream",
     "text": [
      "model accuracy: 0.837\n",
      "model f1-score: 0.356\n",
      "model recall-score: 0.268\n"
     ]
    }
   ],
   "source": [
    "acc, f1, recall = evaluate_model_performance(lgb_clf, X_val, y_val)\n",
    "model_score.append(['LightGBM', acc, f1, recall])"
   ]
  },
  {
   "cell_type": "code",
   "execution_count": 42,
   "metadata": {},
   "outputs": [
    {
     "name": "stdout",
     "output_type": "stream",
     "text": [
      "Train Accuracy: 0.8781205345885518 \n",
      "Train AUC: 0.8781205345885518 \n",
      "Train Confusion Matrix:\n",
      "[[33386  2305]\n",
      " [ 6395 29296]]\n",
      "Test Accuracy: 0.8300121620357377 \n",
      "Test AUC: 0.6322286576653404 \n",
      "Test Confusion Matrix:\n",
      "[[8273  628]\n",
      " [1189  599]]\n"
     ]
    },
    {
     "data": {
      "image/png": "[encoded data removed]",
      "text/plain": [
       "<Figure size 1440x360 with 2 Axes>"
      ]
     },
     "metadata": {
      "needs_background": "light"
     },
     "output_type": "display_data"
    },
    {
     "data": {
      "text/plain": [
       "0.4542302427043093"
      ]
     },
     "execution_count": 42,
     "metadata": {},
     "output_type": "execute_result"
    }
   ],
   "source": [
    "y_test_pred_proba = lgb_clf.predict_proba(X_val)[::,1]\n",
    "y_train_pred_proba = lgb_clf.predict_proba(X_train)[::,1]\n",
    "plot_ROC(y_train, y_train_pred_proba, y_val, y_test_pred_proba)"
   ]
  },
  {
   "cell_type": "markdown",
   "metadata": {},
   "source": [
    "The model illustrated a exelent accuraccy score which is also consistent from the train set to the validation set. The lightgbm model is one of the best model for this problems."
   ]
  },
  {
   "cell_type": "code",
   "execution_count": 43,
   "metadata": {},
   "outputs": [],
   "source": [
    "with open(\"model/lgb_clf.pkl\", 'wb') as file:\n",
    "    pickle.dump(lgb_clf, file)"
   ]
  },
  {
   "cell_type": "markdown",
   "metadata": {},
   "source": [
    "#### 7. Model stacking"
   ]
  },
  {
   "cell_type": "markdown",
   "metadata": {},
   "source": [
    "Finally, I will try to resemble the esemble machine learning methods by applied a stacked genelization model which is combined by different model. The result expected is the stacked model have higher accuraccy score than other model. "
   ]
  },
  {
   "cell_type": "code",
   "execution_count": 47,
   "metadata": {},
   "outputs": [
    {
     "name": "stdout",
     "output_type": "stream",
     "text": [
      "Best Score:  0.7946487042754233\n"
     ]
    }
   ],
   "source": [
    "from sklearn.ensemble import StackingClassifier\n",
    "\n",
    "estimator = list()\n",
    "estimator.append(('lr', LogisticRegression()))\n",
    "estimator.append(('knn', KNeighborsClassifier()))\n",
    "estimator.append(('rf', RandomForestClassifier()))\n",
    "estimator.append(('gnb', GaussianNB()))\n",
    "\n",
    "stack_clf = StackingClassifier(estimators=estimator, \n",
    "                               final_estimator=LogisticRegression(),\n",
    "                               cv=5, n_jobs=4)\n",
    "\n",
    "\n",
    "stack_clf.fit(X_train, y_train)\n",
    "\n",
    "print('Best Score: ', stack_clf.score(X_val, y_val))\n"
   ]
  },
  {
   "cell_type": "code",
   "execution_count": 48,
   "metadata": {},
   "outputs": [
    {
     "name": "stdout",
     "output_type": "stream",
     "text": [
      "model accuracy: 0.795\n",
      "model f1-score: 0.349\n",
      "model recall-score: 0.329\n"
     ]
    }
   ],
   "source": [
    "acc, f1, recall = evaluate_model_performance(stack_clf, X_val, y_val)\n",
    "model_score.append(['Stacking Classifier', acc, f1, recall])"
   ]
  },
  {
   "cell_type": "code",
   "execution_count": 49,
   "metadata": {},
   "outputs": [
    {
     "name": "stdout",
     "output_type": "stream",
     "text": [
      "Train Accuracy: 0.9617830825698356 \n",
      "Train AUC: 0.9617830825698355 \n",
      "Train Confusion Matrix:\n",
      "[[34478  1213]\n",
      " [ 1515 34176]]\n",
      "Test Accuracy: 0.7940873795490692 \n",
      "Test AUC: 0.6104345790270153 \n",
      "Test Confusion Matrix:\n",
      "[[7890 1011]\n",
      " [1190  598]]\n"
     ]
    },
    {
     "data": {
      "image/png": "[encoded data removed]",
      "text/plain": [
       "<Figure size 1440x360 with 2 Axes>"
      ]
     },
     "metadata": {
      "needs_background": "light"
     },
     "output_type": "display_data"
    },
    {
     "data": {
      "text/plain": [
       "0.4942279189300045"
      ]
     },
     "execution_count": 49,
     "metadata": {},
     "output_type": "execute_result"
    }
   ],
   "source": [
    "y_test_pred_proba = stack_clf.predict_proba(X_val)[::,1]\n",
    "y_train_pred_proba = stack_clf.predict_proba(X_train)[::,1]\n",
    "plot_ROC(y_train, y_train_pred_proba, y_val, y_test_pred_proba)"
   ]
  },
  {
   "cell_type": "markdown",
   "metadata": {},
   "source": [
    "The model show a good performance but it is not an improvement when train the model alone."
   ]
  },
  {
   "cell_type": "code",
   "execution_count": 50,
   "metadata": {},
   "outputs": [],
   "source": [
    "with open(\"model/stack_clf.pkl\", 'wb') as file:\n",
    "    pickle.dump(stack_clf, file)"
   ]
  },
  {
   "cell_type": "markdown",
   "metadata": {},
   "source": [
    "### Model Evaluation"
   ]
  },
  {
   "cell_type": "code",
   "execution_count": 51,
   "metadata": {},
   "outputs": [
    {
     "data": {
      "text/html": [
       "<div>\n",
       "<style scoped>\n",
       "    .dataframe tbody tr th:only-of-type {\n",
       "        vertical-align: middle;\n",
       "    }\n",
       "\n",
       "    .dataframe tbody tr th {\n",
       "        vertical-align: top;\n",
       "    }\n",
       "\n",
       "    .dataframe thead th {\n",
       "        text-align: right;\n",
       "    }\n",
       "</style>\n",
       "<table border=\"1\" class=\"dataframe\">\n",
       "  <thead>\n",
       "    <tr style=\"text-align: right;\">\n",
       "      <th></th>\n",
       "      <th>Model</th>\n",
       "      <th>Accuracy Score</th>\n",
       "      <th>F1 Score</th>\n",
       "      <th>Recall score</th>\n",
       "    </tr>\n",
       "  </thead>\n",
       "  <tbody>\n",
       "    <tr>\n",
       "      <th>0</th>\n",
       "      <td>Gaussian Naive Bayes</td>\n",
       "      <td>0.317990</td>\n",
       "      <td>0.296060</td>\n",
       "      <td>0.857383</td>\n",
       "    </tr>\n",
       "    <tr>\n",
       "      <th>1</th>\n",
       "      <td>Logistic regression</td>\n",
       "      <td>0.831603</td>\n",
       "      <td>0.286281</td>\n",
       "      <td>0.201902</td>\n",
       "    </tr>\n",
       "    <tr>\n",
       "      <th>2</th>\n",
       "      <td>Adaboost classifier</td>\n",
       "      <td>0.833287</td>\n",
       "      <td>0.321401</td>\n",
       "      <td>0.236018</td>\n",
       "    </tr>\n",
       "    <tr>\n",
       "      <th>3</th>\n",
       "      <td>K-Nearest neighbours classifier</td>\n",
       "      <td>0.763215</td>\n",
       "      <td>0.290440</td>\n",
       "      <td>0.289709</td>\n",
       "    </tr>\n",
       "    <tr>\n",
       "      <th>4</th>\n",
       "      <td>Random Forest</td>\n",
       "      <td>0.806904</td>\n",
       "      <td>0.330305</td>\n",
       "      <td>0.284676</td>\n",
       "    </tr>\n",
       "    <tr>\n",
       "      <th>5</th>\n",
       "      <td>LightGBM</td>\n",
       "      <td>0.837403</td>\n",
       "      <td>0.355819</td>\n",
       "      <td>0.268456</td>\n",
       "    </tr>\n",
       "    <tr>\n",
       "      <th>6</th>\n",
       "      <td>Stacking Classifier</td>\n",
       "      <td>0.794649</td>\n",
       "      <td>0.349244</td>\n",
       "      <td>0.329418</td>\n",
       "    </tr>\n",
       "  </tbody>\n",
       "</table>\n",
       "</div>"
      ],
      "text/plain": [
       "                             Model  Accuracy Score  F1 Score  Recall score\n",
       "0             Gaussian Naive Bayes        0.317990  0.296060      0.857383\n",
       "1              Logistic regression        0.831603  0.286281      0.201902\n",
       "2              Adaboost classifier        0.833287  0.321401      0.236018\n",
       "3  K-Nearest neighbours classifier        0.763215  0.290440      0.289709\n",
       "4                    Random Forest        0.806904  0.330305      0.284676\n",
       "5                         LightGBM        0.837403  0.355819      0.268456\n",
       "6              Stacking Classifier        0.794649  0.349244      0.329418"
      ]
     },
     "execution_count": 51,
     "metadata": {},
     "output_type": "execute_result"
    }
   ],
   "source": [
    "# Display the score of model with test data set\n",
    "scores = pd.DataFrame(model_score, columns =['Model', 'Accuracy Score', 'F1 Score', 'Recall score'])\n",
    "scores"
   ]
  },
  {
   "cell_type": "markdown",
   "metadata": {},
   "source": [
    "From the table above, we can see all of the important evaluation metrics which are accuraccy, F1 score and recall score. In the next section, we can looking more detail about each of the metrics, but in overall, most of the model beside naive bayes have similar performance, however, the Naive Bayes based model have increasingly high recall score. "
   ]
  },
  {
   "cell_type": "code",
   "execution_count": 56,
   "metadata": {},
   "outputs": [
    {
     "data": {
      "text/plain": [
       "<AxesSubplot:xlabel='Model', ylabel='Accuracy Score'>"
      ]
     },
     "execution_count": 56,
     "metadata": {},
     "output_type": "execute_result"
    },
    {
     "data": {
      "image/png": "[encoded data removed]",
      "text/plain": [
       "<Figure size 1440x720 with 1 Axes>"
      ]
     },
     "metadata": {
      "needs_background": "light"
     },
     "output_type": "display_data"
    }
   ],
   "source": [
    "fig, ax = plt.subplots(figsize=(20,10))\n",
    "sns.barplot(data=scores, x='Model', y='Accuracy Score',  ax=ax)"
   ]
  },
  {
   "cell_type": "markdown",
   "metadata": {},
   "source": [
    "From the bar chart of the accuraccy score, we can see that the Naive Based model have lowest accuraccy score. The different between other model is not significant. However, the adaboost and lightGBM classifier show the highest accuracy overall. In addition, the Logistic regresion model's accuracy is slightly lower than the best model which is also a notable thing because the logistic is one of the most simple with smail trainning time in the list of model above."
   ]
  },
  {
   "cell_type": "code",
   "execution_count": 59,
   "metadata": {},
   "outputs": [
    {
     "data": {
      "text/plain": [
       "<AxesSubplot:xlabel='Model', ylabel='Recall score'>"
      ]
     },
     "execution_count": 59,
     "metadata": {},
     "output_type": "execute_result"
    },
    {
     "data": {
      "image/png": "[encoded data removed]",
      "text/plain": [
       "<Figure size 1440x720 with 1 Axes>"
      ]
     },
     "metadata": {
      "needs_background": "light"
     },
     "output_type": "display_data"
    }
   ],
   "source": [
    "fig, ax = plt.subplots(figsize=(20,10))\n",
    "sns.barplot(data=scores, x='Model', y='Recall score',  ax=ax)"
   ]
  },
  {
   "cell_type": "markdown",
   "metadata": {},
   "source": [
    "As stated from the beginning of this notebook, we want to examine how well the model when predict the LOS of patient is over 3 days. The Gaussian Naive Bayes have the highest recall score where other model score is around 0.3. Therefore, event with high accuracy, most of the model is bad when classify the patient stay longer than 3 days. The reason for this problem is the imbalance data set from the beginning since the number of the patient stay under 3 days is five time higher than the other which let to the bad score in recall metrics. Although, I have performed over sampling technique using SMOTE methods, but it is not an optimize methods in this problems. It is also \n",
    "noteworthy that the stacked model have higher recall score than other, because the benefit of stacked model is it reduce bias and variance."
   ]
  },
  {
   "cell_type": "markdown",
   "metadata": {},
   "source": [
    "From the evaluation above, the best model which is balanced between the performance and efficient (recall and trainning time) is lightGBM. The model have one of the best accuracy and recall score out of 7 models and it not take many time to train. "
   ]
  },
  {
   "cell_type": "markdown",
   "metadata": {},
   "source": [
    "\n",
    "## Use the best model to evaluate test data set and export the data to Kaggle submission"
   ]
  },
  {
   "cell_type": "code",
   "execution_count": 60,
   "metadata": {},
   "outputs": [],
   "source": [
    "# Data preprocessing for test data\n",
    "def preprocessingTestData(data):\n",
    "    '''\n",
    "    Modify the data to increase the accuracy of model\n",
    "    INPUT:\n",
    "    data: the raw data set\n",
    "    OUTPUT:\n",
    "    df: cleaned data set\n",
    "    '''\n",
    "    df = data.copy()\n",
    "    df = df.drop(['HealthServiceArea', 'ID'], axis=1)\n",
    "    \n",
    "    # Get list of categorical variables\n",
    "    s = (df.dtypes == 'object')\n",
    "    categorical_cols = list(s[s].index)\n",
    "    \n",
    "    # One hot encoded cateagorical features\n",
    "    df = pd.get_dummies(df, columns = categorical_cols)\n",
    "    df = df.drop(['TypeOfAdmission_Trauma', 'PaymentTypology_Department of Corrections'], axis=1)\n",
    "\n",
    "    return df"
   ]
  },
  {
   "cell_type": "code",
   "execution_count": 61,
   "metadata": {},
   "outputs": [
    {
     "data": {
      "text/html": [
       "<div>\n",
       "<style scoped>\n",
       "    .dataframe tbody tr th:only-of-type {\n",
       "        vertical-align: middle;\n",
       "    }\n",
       "\n",
       "    .dataframe tbody tr th {\n",
       "        vertical-align: top;\n",
       "    }\n",
       "\n",
       "    .dataframe thead th {\n",
       "        text-align: right;\n",
       "    }\n",
       "</style>\n",
       "<table border=\"1\" class=\"dataframe\">\n",
       "  <thead>\n",
       "    <tr style=\"text-align: right;\">\n",
       "      <th></th>\n",
       "      <th>CCSProcedureCode</th>\n",
       "      <th>APRSeverityOfIllnessCode</th>\n",
       "      <th>BirthWeight</th>\n",
       "      <th>AverageCostInCounty</th>\n",
       "      <th>AverageChargesInCounty</th>\n",
       "      <th>AverageCostInFacility</th>\n",
       "      <th>AverageChargesInFacility</th>\n",
       "      <th>AverageIncomeInZipCode</th>\n",
       "      <th>Gender_F</th>\n",
       "      <th>Gender_M</th>\n",
       "      <th>...</th>\n",
       "      <th>PaymentTypology_Federal/State/Local/VA</th>\n",
       "      <th>PaymentTypology_Managed Care, Unspecified</th>\n",
       "      <th>PaymentTypology_Medicaid</th>\n",
       "      <th>PaymentTypology_Medicare</th>\n",
       "      <th>PaymentTypology_Miscellaneous/Other</th>\n",
       "      <th>PaymentTypology_Private Health Insurance</th>\n",
       "      <th>PaymentTypology_Self-Pay</th>\n",
       "      <th>PaymentTypology_Unknown</th>\n",
       "      <th>EmergencyDepartmentIndicator_N</th>\n",
       "      <th>EmergencyDepartmentIndicator_Y</th>\n",
       "    </tr>\n",
       "  </thead>\n",
       "  <tbody>\n",
       "    <tr>\n",
       "      <th>0</th>\n",
       "      <td>216</td>\n",
       "      <td>3</td>\n",
       "      <td>4900</td>\n",
       "      <td>3242</td>\n",
       "      <td>8966</td>\n",
       "      <td>2448</td>\n",
       "      <td>13196</td>\n",
       "      <td>34</td>\n",
       "      <td>1</td>\n",
       "      <td>0</td>\n",
       "      <td>...</td>\n",
       "      <td>0</td>\n",
       "      <td>0</td>\n",
       "      <td>1</td>\n",
       "      <td>0</td>\n",
       "      <td>0</td>\n",
       "      <td>0</td>\n",
       "      <td>0</td>\n",
       "      <td>0</td>\n",
       "      <td>1</td>\n",
       "      <td>0</td>\n",
       "    </tr>\n",
       "    <tr>\n",
       "      <th>1</th>\n",
       "      <td>220</td>\n",
       "      <td>1</td>\n",
       "      <td>3100</td>\n",
       "      <td>2611</td>\n",
       "      <td>9227</td>\n",
       "      <td>1751</td>\n",
       "      <td>8951</td>\n",
       "      <td>45</td>\n",
       "      <td>1</td>\n",
       "      <td>0</td>\n",
       "      <td>...</td>\n",
       "      <td>0</td>\n",
       "      <td>0</td>\n",
       "      <td>1</td>\n",
       "      <td>0</td>\n",
       "      <td>0</td>\n",
       "      <td>0</td>\n",
       "      <td>0</td>\n",
       "      <td>0</td>\n",
       "      <td>1</td>\n",
       "      <td>0</td>\n",
       "    </tr>\n",
       "    <tr>\n",
       "      <th>2</th>\n",
       "      <td>115</td>\n",
       "      <td>1</td>\n",
       "      <td>3300</td>\n",
       "      <td>3155</td>\n",
       "      <td>11381</td>\n",
       "      <td>1052</td>\n",
       "      <td>11314</td>\n",
       "      <td>74</td>\n",
       "      <td>0</td>\n",
       "      <td>1</td>\n",
       "      <td>...</td>\n",
       "      <td>0</td>\n",
       "      <td>0</td>\n",
       "      <td>1</td>\n",
       "      <td>0</td>\n",
       "      <td>0</td>\n",
       "      <td>0</td>\n",
       "      <td>0</td>\n",
       "      <td>0</td>\n",
       "      <td>1</td>\n",
       "      <td>0</td>\n",
       "    </tr>\n",
       "    <tr>\n",
       "      <th>3</th>\n",
       "      <td>228</td>\n",
       "      <td>1</td>\n",
       "      <td>3300</td>\n",
       "      <td>2611</td>\n",
       "      <td>9227</td>\n",
       "      <td>3790</td>\n",
       "      <td>6250</td>\n",
       "      <td>45</td>\n",
       "      <td>0</td>\n",
       "      <td>1</td>\n",
       "      <td>...</td>\n",
       "      <td>0</td>\n",
       "      <td>0</td>\n",
       "      <td>1</td>\n",
       "      <td>0</td>\n",
       "      <td>0</td>\n",
       "      <td>0</td>\n",
       "      <td>0</td>\n",
       "      <td>0</td>\n",
       "      <td>1</td>\n",
       "      <td>0</td>\n",
       "    </tr>\n",
       "    <tr>\n",
       "      <th>4</th>\n",
       "      <td>220</td>\n",
       "      <td>2</td>\n",
       "      <td>3800</td>\n",
       "      <td>3155</td>\n",
       "      <td>11381</td>\n",
       "      <td>3032</td>\n",
       "      <td>10135</td>\n",
       "      <td>59</td>\n",
       "      <td>1</td>\n",
       "      <td>0</td>\n",
       "      <td>...</td>\n",
       "      <td>0</td>\n",
       "      <td>0</td>\n",
       "      <td>1</td>\n",
       "      <td>0</td>\n",
       "      <td>0</td>\n",
       "      <td>0</td>\n",
       "      <td>0</td>\n",
       "      <td>0</td>\n",
       "      <td>1</td>\n",
       "      <td>0</td>\n",
       "    </tr>\n",
       "    <tr>\n",
       "      <th>...</th>\n",
       "      <td>...</td>\n",
       "      <td>...</td>\n",
       "      <td>...</td>\n",
       "      <td>...</td>\n",
       "      <td>...</td>\n",
       "      <td>...</td>\n",
       "      <td>...</td>\n",
       "      <td>...</td>\n",
       "      <td>...</td>\n",
       "      <td>...</td>\n",
       "      <td>...</td>\n",
       "      <td>...</td>\n",
       "      <td>...</td>\n",
       "      <td>...</td>\n",
       "      <td>...</td>\n",
       "      <td>...</td>\n",
       "      <td>...</td>\n",
       "      <td>...</td>\n",
       "      <td>...</td>\n",
       "      <td>...</td>\n",
       "      <td>...</td>\n",
       "    </tr>\n",
       "    <tr>\n",
       "      <th>69172</th>\n",
       "      <td>115</td>\n",
       "      <td>1</td>\n",
       "      <td>3500</td>\n",
       "      <td>3623</td>\n",
       "      <td>7197</td>\n",
       "      <td>5123</td>\n",
       "      <td>22564</td>\n",
       "      <td>49</td>\n",
       "      <td>0</td>\n",
       "      <td>1</td>\n",
       "      <td>...</td>\n",
       "      <td>0</td>\n",
       "      <td>0</td>\n",
       "      <td>1</td>\n",
       "      <td>0</td>\n",
       "      <td>0</td>\n",
       "      <td>0</td>\n",
       "      <td>0</td>\n",
       "      <td>0</td>\n",
       "      <td>1</td>\n",
       "      <td>0</td>\n",
       "    </tr>\n",
       "    <tr>\n",
       "      <th>69173</th>\n",
       "      <td>0</td>\n",
       "      <td>2</td>\n",
       "      <td>3000</td>\n",
       "      <td>3623</td>\n",
       "      <td>7197</td>\n",
       "      <td>5123</td>\n",
       "      <td>22564</td>\n",
       "      <td>115</td>\n",
       "      <td>0</td>\n",
       "      <td>1</td>\n",
       "      <td>...</td>\n",
       "      <td>0</td>\n",
       "      <td>0</td>\n",
       "      <td>1</td>\n",
       "      <td>0</td>\n",
       "      <td>0</td>\n",
       "      <td>0</td>\n",
       "      <td>0</td>\n",
       "      <td>0</td>\n",
       "      <td>1</td>\n",
       "      <td>0</td>\n",
       "    </tr>\n",
       "    <tr>\n",
       "      <th>69174</th>\n",
       "      <td>0</td>\n",
       "      <td>1</td>\n",
       "      <td>3400</td>\n",
       "      <td>3623</td>\n",
       "      <td>7197</td>\n",
       "      <td>5123</td>\n",
       "      <td>22564</td>\n",
       "      <td>83</td>\n",
       "      <td>0</td>\n",
       "      <td>1</td>\n",
       "      <td>...</td>\n",
       "      <td>0</td>\n",
       "      <td>0</td>\n",
       "      <td>1</td>\n",
       "      <td>0</td>\n",
       "      <td>0</td>\n",
       "      <td>0</td>\n",
       "      <td>0</td>\n",
       "      <td>0</td>\n",
       "      <td>1</td>\n",
       "      <td>0</td>\n",
       "    </tr>\n",
       "    <tr>\n",
       "      <th>69175</th>\n",
       "      <td>115</td>\n",
       "      <td>1</td>\n",
       "      <td>2900</td>\n",
       "      <td>3623</td>\n",
       "      <td>7197</td>\n",
       "      <td>5123</td>\n",
       "      <td>22564</td>\n",
       "      <td>81</td>\n",
       "      <td>0</td>\n",
       "      <td>1</td>\n",
       "      <td>...</td>\n",
       "      <td>0</td>\n",
       "      <td>0</td>\n",
       "      <td>1</td>\n",
       "      <td>0</td>\n",
       "      <td>0</td>\n",
       "      <td>0</td>\n",
       "      <td>0</td>\n",
       "      <td>0</td>\n",
       "      <td>1</td>\n",
       "      <td>0</td>\n",
       "    </tr>\n",
       "    <tr>\n",
       "      <th>69176</th>\n",
       "      <td>0</td>\n",
       "      <td>1</td>\n",
       "      <td>3300</td>\n",
       "      <td>3623</td>\n",
       "      <td>7197</td>\n",
       "      <td>5123</td>\n",
       "      <td>22564</td>\n",
       "      <td>83</td>\n",
       "      <td>0</td>\n",
       "      <td>1</td>\n",
       "      <td>...</td>\n",
       "      <td>0</td>\n",
       "      <td>0</td>\n",
       "      <td>0</td>\n",
       "      <td>0</td>\n",
       "      <td>0</td>\n",
       "      <td>1</td>\n",
       "      <td>0</td>\n",
       "      <td>0</td>\n",
       "      <td>1</td>\n",
       "      <td>0</td>\n",
       "    </tr>\n",
       "  </tbody>\n",
       "</table>\n",
       "<p>69177 rows × 30 columns</p>\n",
       "</div>"
      ],
      "text/plain": [
       "       CCSProcedureCode  APRSeverityOfIllnessCode  BirthWeight  \\\n",
       "0                   216                         3         4900   \n",
       "1                   220                         1         3100   \n",
       "2                   115                         1         3300   \n",
       "3                   228                         1         3300   \n",
       "4                   220                         2         3800   \n",
       "...                 ...                       ...          ...   \n",
       "69172               115                         1         3500   \n",
       "69173                 0                         2         3000   \n",
       "69174                 0                         1         3400   \n",
       "69175               115                         1         2900   \n",
       "69176                 0                         1         3300   \n",
       "\n",
       "       AverageCostInCounty  AverageChargesInCounty  AverageCostInFacility  \\\n",
       "0                     3242                    8966                   2448   \n",
       "1                     2611                    9227                   1751   \n",
       "2                     3155                   11381                   1052   \n",
       "3                     2611                    9227                   3790   \n",
       "4                     3155                   11381                   3032   \n",
       "...                    ...                     ...                    ...   \n",
       "69172                 3623                    7197                   5123   \n",
       "69173                 3623                    7197                   5123   \n",
       "69174                 3623                    7197                   5123   \n",
       "69175                 3623                    7197                   5123   \n",
       "69176                 3623                    7197                   5123   \n",
       "\n",
       "       AverageChargesInFacility  AverageIncomeInZipCode  Gender_F  Gender_M  \\\n",
       "0                         13196                      34         1         0   \n",
       "1                          8951                      45         1         0   \n",
       "2                         11314                      74         0         1   \n",
       "3                          6250                      45         0         1   \n",
       "4                         10135                      59         1         0   \n",
       "...                         ...                     ...       ...       ...   \n",
       "69172                     22564                      49         0         1   \n",
       "69173                     22564                     115         0         1   \n",
       "69174                     22564                      83         0         1   \n",
       "69175                     22564                      81         0         1   \n",
       "69176                     22564                      83         0         1   \n",
       "\n",
       "       ...  PaymentTypology_Federal/State/Local/VA  \\\n",
       "0      ...                                       0   \n",
       "1      ...                                       0   \n",
       "2      ...                                       0   \n",
       "3      ...                                       0   \n",
       "4      ...                                       0   \n",
       "...    ...                                     ...   \n",
       "69172  ...                                       0   \n",
       "69173  ...                                       0   \n",
       "69174  ...                                       0   \n",
       "69175  ...                                       0   \n",
       "69176  ...                                       0   \n",
       "\n",
       "       PaymentTypology_Managed Care, Unspecified  PaymentTypology_Medicaid  \\\n",
       "0                                              0                         1   \n",
       "1                                              0                         1   \n",
       "2                                              0                         1   \n",
       "3                                              0                         1   \n",
       "4                                              0                         1   \n",
       "...                                          ...                       ...   \n",
       "69172                                          0                         1   \n",
       "69173                                          0                         1   \n",
       "69174                                          0                         1   \n",
       "69175                                          0                         1   \n",
       "69176                                          0                         0   \n",
       "\n",
       "       PaymentTypology_Medicare  PaymentTypology_Miscellaneous/Other  \\\n",
       "0                             0                                    0   \n",
       "1                             0                                    0   \n",
       "2                             0                                    0   \n",
       "3                             0                                    0   \n",
       "4                             0                                    0   \n",
       "...                         ...                                  ...   \n",
       "69172                         0                                    0   \n",
       "69173                         0                                    0   \n",
       "69174                         0                                    0   \n",
       "69175                         0                                    0   \n",
       "69176                         0                                    0   \n",
       "\n",
       "       PaymentTypology_Private Health Insurance  PaymentTypology_Self-Pay  \\\n",
       "0                                             0                         0   \n",
       "1                                             0                         0   \n",
       "2                                             0                         0   \n",
       "3                                             0                         0   \n",
       "4                                             0                         0   \n",
       "...                                         ...                       ...   \n",
       "69172                                         0                         0   \n",
       "69173                                         0                         0   \n",
       "69174                                         0                         0   \n",
       "69175                                         0                         0   \n",
       "69176                                         1                         0   \n",
       "\n",
       "       PaymentTypology_Unknown  EmergencyDepartmentIndicator_N  \\\n",
       "0                            0                               1   \n",
       "1                            0                               1   \n",
       "2                            0                               1   \n",
       "3                            0                               1   \n",
       "4                            0                               1   \n",
       "...                        ...                             ...   \n",
       "69172                        0                               1   \n",
       "69173                        0                               1   \n",
       "69174                        0                               1   \n",
       "69175                        0                               1   \n",
       "69176                        0                               1   \n",
       "\n",
       "       EmergencyDepartmentIndicator_Y  \n",
       "0                                   0  \n",
       "1                                   0  \n",
       "2                                   0  \n",
       "3                                   0  \n",
       "4                                   0  \n",
       "...                               ...  \n",
       "69172                               0  \n",
       "69173                               0  \n",
       "69174                               0  \n",
       "69175                               0  \n",
       "69176                               0  \n",
       "\n",
       "[69177 rows x 30 columns]"
      ]
     },
     "execution_count": 61,
     "metadata": {},
     "output_type": "execute_result"
    }
   ],
   "source": [
    "test_data = pd.read_csv(\"./data/test_data.csv\")\n",
    "test_data = preprocessingTestData(test_data)\n",
    "test_data"
   ]
  },
  {
   "cell_type": "code",
   "execution_count": 62,
   "metadata": {},
   "outputs": [
    {
     "data": {
      "text/html": [
       "<div>\n",
       "<style scoped>\n",
       "    .dataframe tbody tr th:only-of-type {\n",
       "        vertical-align: middle;\n",
       "    }\n",
       "\n",
       "    .dataframe tbody tr th {\n",
       "        vertical-align: top;\n",
       "    }\n",
       "\n",
       "    .dataframe thead th {\n",
       "        text-align: right;\n",
       "    }\n",
       "</style>\n",
       "<table border=\"1\" class=\"dataframe\">\n",
       "  <thead>\n",
       "    <tr style=\"text-align: right;\">\n",
       "      <th></th>\n",
       "      <th>CCSProcedureCode</th>\n",
       "      <th>APRSeverityOfIllnessCode</th>\n",
       "      <th>BirthWeight</th>\n",
       "      <th>AverageCostInCounty</th>\n",
       "      <th>AverageChargesInCounty</th>\n",
       "      <th>AverageCostInFacility</th>\n",
       "      <th>AverageChargesInFacility</th>\n",
       "      <th>AverageIncomeInZipCode</th>\n",
       "      <th>Gender_F</th>\n",
       "      <th>Gender_M</th>\n",
       "      <th>...</th>\n",
       "      <th>PaymentTypology_FederalStateLocalVA</th>\n",
       "      <th>PaymentTypology_ManagedCareUnspecified</th>\n",
       "      <th>PaymentTypology_Medicaid</th>\n",
       "      <th>PaymentTypology_Medicare</th>\n",
       "      <th>PaymentTypology_MiscellaneousOther</th>\n",
       "      <th>PaymentTypology_PrivateHealthInsurance</th>\n",
       "      <th>PaymentTypology_SelfPay</th>\n",
       "      <th>PaymentTypology_Unknown</th>\n",
       "      <th>EmergencyDepartmentIndicator_N</th>\n",
       "      <th>EmergencyDepartmentIndicator_Y</th>\n",
       "    </tr>\n",
       "  </thead>\n",
       "  <tbody>\n",
       "    <tr>\n",
       "      <th>0</th>\n",
       "      <td>216</td>\n",
       "      <td>3</td>\n",
       "      <td>4900</td>\n",
       "      <td>3242</td>\n",
       "      <td>8966</td>\n",
       "      <td>2448</td>\n",
       "      <td>13196</td>\n",
       "      <td>34</td>\n",
       "      <td>1</td>\n",
       "      <td>0</td>\n",
       "      <td>...</td>\n",
       "      <td>0</td>\n",
       "      <td>0</td>\n",
       "      <td>1</td>\n",
       "      <td>0</td>\n",
       "      <td>0</td>\n",
       "      <td>0</td>\n",
       "      <td>0</td>\n",
       "      <td>0</td>\n",
       "      <td>1</td>\n",
       "      <td>0</td>\n",
       "    </tr>\n",
       "    <tr>\n",
       "      <th>1</th>\n",
       "      <td>220</td>\n",
       "      <td>1</td>\n",
       "      <td>3100</td>\n",
       "      <td>2611</td>\n",
       "      <td>9227</td>\n",
       "      <td>1751</td>\n",
       "      <td>8951</td>\n",
       "      <td>45</td>\n",
       "      <td>1</td>\n",
       "      <td>0</td>\n",
       "      <td>...</td>\n",
       "      <td>0</td>\n",
       "      <td>0</td>\n",
       "      <td>1</td>\n",
       "      <td>0</td>\n",
       "      <td>0</td>\n",
       "      <td>0</td>\n",
       "      <td>0</td>\n",
       "      <td>0</td>\n",
       "      <td>1</td>\n",
       "      <td>0</td>\n",
       "    </tr>\n",
       "    <tr>\n",
       "      <th>2</th>\n",
       "      <td>115</td>\n",
       "      <td>1</td>\n",
       "      <td>3300</td>\n",
       "      <td>3155</td>\n",
       "      <td>11381</td>\n",
       "      <td>1052</td>\n",
       "      <td>11314</td>\n",
       "      <td>74</td>\n",
       "      <td>0</td>\n",
       "      <td>1</td>\n",
       "      <td>...</td>\n",
       "      <td>0</td>\n",
       "      <td>0</td>\n",
       "      <td>1</td>\n",
       "      <td>0</td>\n",
       "      <td>0</td>\n",
       "      <td>0</td>\n",
       "      <td>0</td>\n",
       "      <td>0</td>\n",
       "      <td>1</td>\n",
       "      <td>0</td>\n",
       "    </tr>\n",
       "    <tr>\n",
       "      <th>3</th>\n",
       "      <td>228</td>\n",
       "      <td>1</td>\n",
       "      <td>3300</td>\n",
       "      <td>2611</td>\n",
       "      <td>9227</td>\n",
       "      <td>3790</td>\n",
       "      <td>6250</td>\n",
       "      <td>45</td>\n",
       "      <td>0</td>\n",
       "      <td>1</td>\n",
       "      <td>...</td>\n",
       "      <td>0</td>\n",
       "      <td>0</td>\n",
       "      <td>1</td>\n",
       "      <td>0</td>\n",
       "      <td>0</td>\n",
       "      <td>0</td>\n",
       "      <td>0</td>\n",
       "      <td>0</td>\n",
       "      <td>1</td>\n",
       "      <td>0</td>\n",
       "    </tr>\n",
       "    <tr>\n",
       "      <th>4</th>\n",
       "      <td>220</td>\n",
       "      <td>2</td>\n",
       "      <td>3800</td>\n",
       "      <td>3155</td>\n",
       "      <td>11381</td>\n",
       "      <td>3032</td>\n",
       "      <td>10135</td>\n",
       "      <td>59</td>\n",
       "      <td>1</td>\n",
       "      <td>0</td>\n",
       "      <td>...</td>\n",
       "      <td>0</td>\n",
       "      <td>0</td>\n",
       "      <td>1</td>\n",
       "      <td>0</td>\n",
       "      <td>0</td>\n",
       "      <td>0</td>\n",
       "      <td>0</td>\n",
       "      <td>0</td>\n",
       "      <td>1</td>\n",
       "      <td>0</td>\n",
       "    </tr>\n",
       "    <tr>\n",
       "      <th>...</th>\n",
       "      <td>...</td>\n",
       "      <td>...</td>\n",
       "      <td>...</td>\n",
       "      <td>...</td>\n",
       "      <td>...</td>\n",
       "      <td>...</td>\n",
       "      <td>...</td>\n",
       "      <td>...</td>\n",
       "      <td>...</td>\n",
       "      <td>...</td>\n",
       "      <td>...</td>\n",
       "      <td>...</td>\n",
       "      <td>...</td>\n",
       "      <td>...</td>\n",
       "      <td>...</td>\n",
       "      <td>...</td>\n",
       "      <td>...</td>\n",
       "      <td>...</td>\n",
       "      <td>...</td>\n",
       "      <td>...</td>\n",
       "      <td>...</td>\n",
       "    </tr>\n",
       "    <tr>\n",
       "      <th>69172</th>\n",
       "      <td>115</td>\n",
       "      <td>1</td>\n",
       "      <td>3500</td>\n",
       "      <td>3623</td>\n",
       "      <td>7197</td>\n",
       "      <td>5123</td>\n",
       "      <td>22564</td>\n",
       "      <td>49</td>\n",
       "      <td>0</td>\n",
       "      <td>1</td>\n",
       "      <td>...</td>\n",
       "      <td>0</td>\n",
       "      <td>0</td>\n",
       "      <td>1</td>\n",
       "      <td>0</td>\n",
       "      <td>0</td>\n",
       "      <td>0</td>\n",
       "      <td>0</td>\n",
       "      <td>0</td>\n",
       "      <td>1</td>\n",
       "      <td>0</td>\n",
       "    </tr>\n",
       "    <tr>\n",
       "      <th>69173</th>\n",
       "      <td>0</td>\n",
       "      <td>2</td>\n",
       "      <td>3000</td>\n",
       "      <td>3623</td>\n",
       "      <td>7197</td>\n",
       "      <td>5123</td>\n",
       "      <td>22564</td>\n",
       "      <td>115</td>\n",
       "      <td>0</td>\n",
       "      <td>1</td>\n",
       "      <td>...</td>\n",
       "      <td>0</td>\n",
       "      <td>0</td>\n",
       "      <td>1</td>\n",
       "      <td>0</td>\n",
       "      <td>0</td>\n",
       "      <td>0</td>\n",
       "      <td>0</td>\n",
       "      <td>0</td>\n",
       "      <td>1</td>\n",
       "      <td>0</td>\n",
       "    </tr>\n",
       "    <tr>\n",
       "      <th>69174</th>\n",
       "      <td>0</td>\n",
       "      <td>1</td>\n",
       "      <td>3400</td>\n",
       "      <td>3623</td>\n",
       "      <td>7197</td>\n",
       "      <td>5123</td>\n",
       "      <td>22564</td>\n",
       "      <td>83</td>\n",
       "      <td>0</td>\n",
       "      <td>1</td>\n",
       "      <td>...</td>\n",
       "      <td>0</td>\n",
       "      <td>0</td>\n",
       "      <td>1</td>\n",
       "      <td>0</td>\n",
       "      <td>0</td>\n",
       "      <td>0</td>\n",
       "      <td>0</td>\n",
       "      <td>0</td>\n",
       "      <td>1</td>\n",
       "      <td>0</td>\n",
       "    </tr>\n",
       "    <tr>\n",
       "      <th>69175</th>\n",
       "      <td>115</td>\n",
       "      <td>1</td>\n",
       "      <td>2900</td>\n",
       "      <td>3623</td>\n",
       "      <td>7197</td>\n",
       "      <td>5123</td>\n",
       "      <td>22564</td>\n",
       "      <td>81</td>\n",
       "      <td>0</td>\n",
       "      <td>1</td>\n",
       "      <td>...</td>\n",
       "      <td>0</td>\n",
       "      <td>0</td>\n",
       "      <td>1</td>\n",
       "      <td>0</td>\n",
       "      <td>0</td>\n",
       "      <td>0</td>\n",
       "      <td>0</td>\n",
       "      <td>0</td>\n",
       "      <td>1</td>\n",
       "      <td>0</td>\n",
       "    </tr>\n",
       "    <tr>\n",
       "      <th>69176</th>\n",
       "      <td>0</td>\n",
       "      <td>1</td>\n",
       "      <td>3300</td>\n",
       "      <td>3623</td>\n",
       "      <td>7197</td>\n",
       "      <td>5123</td>\n",
       "      <td>22564</td>\n",
       "      <td>83</td>\n",
       "      <td>0</td>\n",
       "      <td>1</td>\n",
       "      <td>...</td>\n",
       "      <td>0</td>\n",
       "      <td>0</td>\n",
       "      <td>0</td>\n",
       "      <td>0</td>\n",
       "      <td>0</td>\n",
       "      <td>1</td>\n",
       "      <td>0</td>\n",
       "      <td>0</td>\n",
       "      <td>1</td>\n",
       "      <td>0</td>\n",
       "    </tr>\n",
       "  </tbody>\n",
       "</table>\n",
       "<p>69177 rows × 30 columns</p>\n",
       "</div>"
      ],
      "text/plain": [
       "       CCSProcedureCode  APRSeverityOfIllnessCode  BirthWeight  \\\n",
       "0                   216                         3         4900   \n",
       "1                   220                         1         3100   \n",
       "2                   115                         1         3300   \n",
       "3                   228                         1         3300   \n",
       "4                   220                         2         3800   \n",
       "...                 ...                       ...          ...   \n",
       "69172               115                         1         3500   \n",
       "69173                 0                         2         3000   \n",
       "69174                 0                         1         3400   \n",
       "69175               115                         1         2900   \n",
       "69176                 0                         1         3300   \n",
       "\n",
       "       AverageCostInCounty  AverageChargesInCounty  AverageCostInFacility  \\\n",
       "0                     3242                    8966                   2448   \n",
       "1                     2611                    9227                   1751   \n",
       "2                     3155                   11381                   1052   \n",
       "3                     2611                    9227                   3790   \n",
       "4                     3155                   11381                   3032   \n",
       "...                    ...                     ...                    ...   \n",
       "69172                 3623                    7197                   5123   \n",
       "69173                 3623                    7197                   5123   \n",
       "69174                 3623                    7197                   5123   \n",
       "69175                 3623                    7197                   5123   \n",
       "69176                 3623                    7197                   5123   \n",
       "\n",
       "       AverageChargesInFacility  AverageIncomeInZipCode  Gender_F  Gender_M  \\\n",
       "0                         13196                      34         1         0   \n",
       "1                          8951                      45         1         0   \n",
       "2                         11314                      74         0         1   \n",
       "3                          6250                      45         0         1   \n",
       "4                         10135                      59         1         0   \n",
       "...                         ...                     ...       ...       ...   \n",
       "69172                     22564                      49         0         1   \n",
       "69173                     22564                     115         0         1   \n",
       "69174                     22564                      83         0         1   \n",
       "69175                     22564                      81         0         1   \n",
       "69176                     22564                      83         0         1   \n",
       "\n",
       "       ...  PaymentTypology_FederalStateLocalVA  \\\n",
       "0      ...                                    0   \n",
       "1      ...                                    0   \n",
       "2      ...                                    0   \n",
       "3      ...                                    0   \n",
       "4      ...                                    0   \n",
       "...    ...                                  ...   \n",
       "69172  ...                                    0   \n",
       "69173  ...                                    0   \n",
       "69174  ...                                    0   \n",
       "69175  ...                                    0   \n",
       "69176  ...                                    0   \n",
       "\n",
       "       PaymentTypology_ManagedCareUnspecified  PaymentTypology_Medicaid  \\\n",
       "0                                           0                         1   \n",
       "1                                           0                         1   \n",
       "2                                           0                         1   \n",
       "3                                           0                         1   \n",
       "4                                           0                         1   \n",
       "...                                       ...                       ...   \n",
       "69172                                       0                         1   \n",
       "69173                                       0                         1   \n",
       "69174                                       0                         1   \n",
       "69175                                       0                         1   \n",
       "69176                                       0                         0   \n",
       "\n",
       "       PaymentTypology_Medicare  PaymentTypology_MiscellaneousOther  \\\n",
       "0                             0                                   0   \n",
       "1                             0                                   0   \n",
       "2                             0                                   0   \n",
       "3                             0                                   0   \n",
       "4                             0                                   0   \n",
       "...                         ...                                 ...   \n",
       "69172                         0                                   0   \n",
       "69173                         0                                   0   \n",
       "69174                         0                                   0   \n",
       "69175                         0                                   0   \n",
       "69176                         0                                   0   \n",
       "\n",
       "       PaymentTypology_PrivateHealthInsurance  PaymentTypology_SelfPay  \\\n",
       "0                                           0                        0   \n",
       "1                                           0                        0   \n",
       "2                                           0                        0   \n",
       "3                                           0                        0   \n",
       "4                                           0                        0   \n",
       "...                                       ...                      ...   \n",
       "69172                                       0                        0   \n",
       "69173                                       0                        0   \n",
       "69174                                       0                        0   \n",
       "69175                                       0                        0   \n",
       "69176                                       1                        0   \n",
       "\n",
       "       PaymentTypology_Unknown  EmergencyDepartmentIndicator_N  \\\n",
       "0                            0                               1   \n",
       "1                            0                               1   \n",
       "2                            0                               1   \n",
       "3                            0                               1   \n",
       "4                            0                               1   \n",
       "...                        ...                             ...   \n",
       "69172                        0                               1   \n",
       "69173                        0                               1   \n",
       "69174                        0                               1   \n",
       "69175                        0                               1   \n",
       "69176                        0                               1   \n",
       "\n",
       "       EmergencyDepartmentIndicator_Y  \n",
       "0                                   0  \n",
       "1                                   0  \n",
       "2                                   0  \n",
       "3                                   0  \n",
       "4                                   0  \n",
       "...                               ...  \n",
       "69172                               0  \n",
       "69173                               0  \n",
       "69174                               0  \n",
       "69175                               0  \n",
       "69176                               0  \n",
       "\n",
       "[69177 rows x 30 columns]"
      ]
     },
     "execution_count": 62,
     "metadata": {},
     "output_type": "execute_result"
    }
   ],
   "source": [
    "import re\n",
    "test_data = test_data.rename(columns = lambda x:re.sub('[^A-Za-z0-9_]+', '', x))\n",
    "test_data"
   ]
  },
  {
   "cell_type": "code",
   "execution_count": 63,
   "metadata": {},
   "outputs": [],
   "source": [
    "y_test = lgb_clf.predict(test_data)"
   ]
  },
  {
   "cell_type": "code",
   "execution_count": 64,
   "metadata": {},
   "outputs": [],
   "source": [
    "t_data = pd.read_csv(\"./data/test_data.csv\")\n",
    "result = pd.concat([pd.DataFrame(t_data['ID']), pd.DataFrame(y_test, columns=['LengthOfStay'])], axis=1)"
   ]
  },
  {
   "cell_type": "code",
   "execution_count": 65,
   "metadata": {},
   "outputs": [
    {
     "data": {
      "text/html": [
       "<div>\n",
       "<style scoped>\n",
       "    .dataframe tbody tr th:only-of-type {\n",
       "        vertical-align: middle;\n",
       "    }\n",
       "\n",
       "    .dataframe tbody tr th {\n",
       "        vertical-align: top;\n",
       "    }\n",
       "\n",
       "    .dataframe thead th {\n",
       "        text-align: right;\n",
       "    }\n",
       "</style>\n",
       "<table border=\"1\" class=\"dataframe\">\n",
       "  <thead>\n",
       "    <tr style=\"text-align: right;\">\n",
       "      <th></th>\n",
       "      <th>ID</th>\n",
       "      <th>LengthOfStay</th>\n",
       "    </tr>\n",
       "  </thead>\n",
       "  <tbody>\n",
       "    <tr>\n",
       "      <th>0</th>\n",
       "      <td>1</td>\n",
       "      <td>0</td>\n",
       "    </tr>\n",
       "    <tr>\n",
       "      <th>1</th>\n",
       "      <td>2</td>\n",
       "      <td>0</td>\n",
       "    </tr>\n",
       "    <tr>\n",
       "      <th>2</th>\n",
       "      <td>3</td>\n",
       "      <td>0</td>\n",
       "    </tr>\n",
       "    <tr>\n",
       "      <th>3</th>\n",
       "      <td>4</td>\n",
       "      <td>0</td>\n",
       "    </tr>\n",
       "    <tr>\n",
       "      <th>4</th>\n",
       "      <td>5</td>\n",
       "      <td>0</td>\n",
       "    </tr>\n",
       "    <tr>\n",
       "      <th>...</th>\n",
       "      <td>...</td>\n",
       "      <td>...</td>\n",
       "    </tr>\n",
       "    <tr>\n",
       "      <th>69172</th>\n",
       "      <td>69173</td>\n",
       "      <td>0</td>\n",
       "    </tr>\n",
       "    <tr>\n",
       "      <th>69173</th>\n",
       "      <td>69174</td>\n",
       "      <td>0</td>\n",
       "    </tr>\n",
       "    <tr>\n",
       "      <th>69174</th>\n",
       "      <td>69175</td>\n",
       "      <td>0</td>\n",
       "    </tr>\n",
       "    <tr>\n",
       "      <th>69175</th>\n",
       "      <td>69176</td>\n",
       "      <td>0</td>\n",
       "    </tr>\n",
       "    <tr>\n",
       "      <th>69176</th>\n",
       "      <td>69177</td>\n",
       "      <td>0</td>\n",
       "    </tr>\n",
       "  </tbody>\n",
       "</table>\n",
       "<p>69177 rows × 2 columns</p>\n",
       "</div>"
      ],
      "text/plain": [
       "          ID  LengthOfStay\n",
       "0          1             0\n",
       "1          2             0\n",
       "2          3             0\n",
       "3          4             0\n",
       "4          5             0\n",
       "...      ...           ...\n",
       "69172  69173             0\n",
       "69173  69174             0\n",
       "69174  69175             0\n",
       "69175  69176             0\n",
       "69176  69177             0\n",
       "\n",
       "[69177 rows x 2 columns]"
      ]
     },
     "execution_count": 65,
     "metadata": {},
     "output_type": "execute_result"
    }
   ],
   "source": [
    "result"
   ]
  },
  {
   "cell_type": "code",
   "execution_count": 66,
   "metadata": {},
   "outputs": [],
   "source": [
    "result.to_csv('s3757281_prediction.csv', index=False)"
   ]
  },
  {
   "cell_type": "markdown",
   "metadata": {},
   "source": [
    "After sumbitted, the result predited by the lightGBM have the accuraccy score 0.9343 which is the best score compare to the result of other models. "
   ]
  },
  {
   "cell_type": "markdown",
   "metadata": {},
   "source": [
    "## Conclusion"
   ]
  },
  {
   "cell_type": "markdown",
   "metadata": {},
   "source": [
    "In conclusion, in this notebook several model is trained and have produce decent result. Before modelling the data, several data cleanning step are performed which are remove outlier, one hot encoded categoricals features and over sampling the train data. The lightGBM and Adaboost have the best accuraccy compare to other models and the best model for this problem is the lightGBM since it is the most efficient with good accuracy and recall score. However, the logistic regression had good result eventhough it is an elementary model. Throughout this assignment, I have applied the machine learning knowledge to solve real-world problem."
   ]
  }
 ],
 "metadata": {
  "kernelspec": {
   "display_name": "Python 3",
   "language": "python",
   "name": "python3"
  },
  "language_info": {
   "codemirror_mode": {
    "name": "ipython",
    "version": 3
   },
   "file_extension": ".py",
   "mimetype": "text/x-python",
   "name": "python",
   "nbconvert_exporter": "python",
   "pygments_lexer": "ipython3",
   "version": "3.8.5"
  }
 },
 "nbformat": 4,
 "nbformat_minor": 4
}
